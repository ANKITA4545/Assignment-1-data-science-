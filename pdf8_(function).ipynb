{
  "nbformat": 4,
  "nbformat_minor": 0,
  "metadata": {
    "colab": {
      "provenance": [],
      "authorship_tag": "ABX9TyPWDESNLEHHWKnqEpdpJ95f",
      "include_colab_link": true
    },
    "kernelspec": {
      "name": "python3",
      "display_name": "Python 3"
    },
    "language_info": {
      "name": "python"
    }
  },
  "cells": [
    {
      "cell_type": "markdown",
      "metadata": {
        "id": "view-in-github",
        "colab_type": "text"
      },
      "source": [
        "<a href=\"https://colab.research.google.com/github/ANKITA4545/Assignment-1-data-science-/blob/main/pdf8_(function).ipynb\" target=\"_parent\"><img src=\"https://colab.research.google.com/assets/colab-badge.svg\" alt=\"Open In Colab\"/></a>"
      ]
    },
    {
      "cell_type": "code",
      "execution_count": null,
      "metadata": {
        "colab": {
          "base_uri": "https://localhost:8080/"
        },
        "id": "XlCyvaU_SE2Z",
        "outputId": "0ba36a7e-0111-4d0a-9c8e-eb4c2573e24c"
      },
      "outputs": [
        {
          "output_type": "stream",
          "name": "stdout",
          "text": [
            "['I', 'c', 't', 'e', 'w', 'm']\n"
          ]
        }
      ],
      "source": [
        "heisenberg_quote = \"It ceases to exist without me.\"\n",
        "words_by_walter = heisenberg_quote.split(' ')\n",
        "first_letters = [word[0] for word in words_by_walter]\n",
        "print(first_letters)"
      ]
    },
    {
      "cell_type": "code",
      "source": [
        "heisenberg_quote = \"It ceases to exist without me.\"\n",
        "words_by_walter = heisenberg_quote.split(' ')\n",
        "first_letters = [word[0] for word in words_by_walter]\n",
        "print(first_letters)\n",
        "\n",
        "\n",
        "def extract_first_letters(sentence):\n",
        "  '''\n",
        "  This function takes a sentence as an input and returns\n",
        "  the list of first letters of each word\n",
        "  '''\n",
        "  words_in_sentence = sentence.split(' ')\n",
        "  first_letters = [word[0] for word in words_in_sentence]\n",
        "  # Moved print statement before the return to be executed\n",
        "  print(extract_first_letters(heisenberg_quote))\n",
        "  return first_letters\n",
        "\n",
        "\n",
        "\n",
        "\n"
      ],
      "metadata": {
        "colab": {
          "base_uri": "https://localhost:8080/"
        },
        "id": "GD6w2ziRVc27",
        "outputId": "3c2279c2-62e5-496c-da8a-10964343aabd"
      },
      "execution_count": null,
      "outputs": [
        {
          "output_type": "stream",
          "name": "stdout",
          "text": [
            "['I', 'c', 't', 'e', 'w', 'm']\n"
          ]
        }
      ]
    },
    {
      "cell_type": "code",
      "source": [
        "first_letters_heisenberg = extract_first_letters(heisenberg_quote)\n",
        "print(first_letters_heisenberg)"
      ],
      "metadata": {
        "colab": {
          "base_uri": "https://localhost:8080/"
        },
        "id": "ZUeh8O63Vc6O",
        "outputId": "de839c4a-7960-4deb-b536-6187246b9f45"
      },
      "execution_count": null,
      "outputs": [
        {
          "output_type": "stream",
          "name": "stdout",
          "text": [
            "['I', 'c', 't', 'e', 'w', 'm']\n"
          ]
        }
      ]
    },
    {
      "cell_type": "code",
      "source": [
        "starwars_quote = \"May the force be with you.\"\n",
        "first_letters_starwars = extract_first_letters(starwars_quote)\n",
        "print(first_letters_starwars)"
      ],
      "metadata": {
        "id": "muQqhqjeVc9q",
        "colab": {
          "base_uri": "https://localhost:8080/"
        },
        "outputId": "a104aff8-4357-4ca8-a6fa-ef1dbc9c57b6"
      },
      "execution_count": null,
      "outputs": [
        {
          "output_type": "stream",
          "name": "stdout",
          "text": [
            "['M', 't', 'f', 'b', 'w', 'y']\n"
          ]
        }
      ]
    },
    {
      "cell_type": "code",
      "source": [
        "def factorial(num):\n",
        "  '''\n",
        "  Function for calculating factorial of a number\n",
        "  '''\n",
        "  result = 1\n",
        "  if num < 0:\n",
        "    print(\"Factorial is not defined for negative numbers.\")\n",
        "  elif num > 0:\n",
        "      for i in range(1, num + 1):\n",
        "        result *= i\n",
        "        print(f\"The factorial of {num} is {result}.\")\n",
        "      else:\n",
        "          result=1\n",
        "          print('factorial of 0 is ',result)\n"
      ],
      "metadata": {
        "id": "Ixc5csJGVdFa"
      },
      "execution_count": null,
      "outputs": []
    },
    {
      "cell_type": "code",
      "source": [
        "factorial(9)"
      ],
      "metadata": {
        "id": "b01XstWPVdJV",
        "colab": {
          "base_uri": "https://localhost:8080/"
        },
        "outputId": "12b21993-81a5-4ad5-bf1f-2d285a7880b6"
      },
      "execution_count": null,
      "outputs": [
        {
          "output_type": "stream",
          "name": "stdout",
          "text": [
            "The factorial of 9 is 1.\n",
            "The factorial of 9 is 2.\n",
            "The factorial of 9 is 6.\n",
            "The factorial of 9 is 24.\n",
            "The factorial of 9 is 120.\n",
            "The factorial of 9 is 720.\n",
            "The factorial of 9 is 5040.\n",
            "The factorial of 9 is 40320.\n",
            "The factorial of 9 is 362880.\n",
            "factorial of 0 is  1\n"
          ]
        }
      ]
    },
    {
      "cell_type": "code",
      "source": [
        "list_of_numbers = [3,5,8,12,4,6]\n",
        "factorial_list = [factorial(number) for number in list_of_numbers if number %2!=0]\n",
        "print(factorial_list)"
      ],
      "metadata": {
        "id": "A8DwlAM3VdPr",
        "colab": {
          "base_uri": "https://localhost:8080/"
        },
        "outputId": "37530cde-c321-49cf-878a-68e73c3b90ea"
      },
      "execution_count": null,
      "outputs": [
        {
          "output_type": "stream",
          "name": "stdout",
          "text": [
            "The factorial of 3 is 1.\n",
            "The factorial of 3 is 2.\n",
            "The factorial of 3 is 6.\n",
            "factorial of 0 is  1\n",
            "The factorial of 5 is 1.\n",
            "The factorial of 5 is 2.\n",
            "The factorial of 5 is 6.\n",
            "The factorial of 5 is 24.\n",
            "The factorial of 5 is 120.\n",
            "factorial of 0 is  1\n",
            "[None, None]\n"
          ]
        }
      ]
    },
    {
      "cell_type": "code",
      "source": [
        "def assignQuarter(user_date):\n",
        "  '''\n",
        "  This function prints the quarter for given date string\n",
        "  '''\n",
        "  date_year = user_date[:4]\n",
        "  date_month = user_date[5:7]\n",
        "\n",
        "  if (date_month >= '01') & (date_month <= '03'):\n",
        "    quarter = date_year + '-Q1'\n",
        "  elif (date_month >= '04') & (date_month <= '06'):\n",
        "      quarter = date_year + '-Q2'\n",
        "  elif (date_month >= '07') & (date_month <= '09'):\n",
        "        quarter = date_year + '-Q3'\n",
        "  else:\n",
        "          quarter = date_year + '-Q4'\n",
        "  # Moved the print statement inside the function to access user_date\n",
        "  print(f'The corresponding quarter for the date {user_date} is {quarter}')\n",
        "  # Return the calculated quarter\n",
        "  return quarter\n",
        "\n",
        "sample_date = '2020-07-01'\n",
        "date_quarter = assignQuarter(sample_date)\n",
        "print(date_quarter)\n"
      ],
      "metadata": {
        "colab": {
          "base_uri": "https://localhost:8080/"
        },
        "id": "vsur0fEIm7yO",
        "outputId": "7906ef81-ef49-49ae-c7fa-21a56f31564f"
      },
      "execution_count": null,
      "outputs": [
        {
          "output_type": "stream",
          "name": "stdout",
          "text": [
            "The corresponding quarter for the date 2020-07-01 is 2020-Q3\n",
            "2020-Q3\n"
          ]
        }
      ]
    },
    {
      "cell_type": "code",
      "source": [
        "my_quarter = assignQuarter(sample_date)"
      ],
      "metadata": {
        "id": "xoJKkbdVlzsE",
        "colab": {
          "base_uri": "https://localhost:8080/"
        },
        "outputId": "f8c520ad-c89e-4cf5-bedd-45856f7ee4a6"
      },
      "execution_count": null,
      "outputs": [
        {
          "output_type": "stream",
          "name": "stdout",
          "text": [
            "The corresponding quarter for the date 2020-07-01 is 2020-Q3\n"
          ]
        }
      ]
    },
    {
      "cell_type": "code",
      "source": [
        "print(my_quarter)"
      ],
      "metadata": {
        "id": "uh9nQY8KlzvV",
        "colab": {
          "base_uri": "https://localhost:8080/"
        },
        "outputId": "b82b303b-2e5b-4831-f897-0cff5ddd58bc"
      },
      "execution_count": null,
      "outputs": [
        {
          "output_type": "stream",
          "name": "stdout",
          "text": [
            "2020-Q3\n"
          ]
        }
      ]
    },
    {
      "cell_type": "code",
      "source": [
        "def check_even_odd(num):\n",
        "  '''\n",
        "  This function checks whether a number is even or odd or even and returns the corresponding string\n",
        "  '''\n",
        "  print(f'Given number is {num}')\n",
        "  if num%2 == 0:\n",
        "    return 'even'\n",
        "\n",
        "    return 'odd'\n",
        "\n",
        "    is_even_odd = check_even_or_odd(10)\n",
        "    print(is_even_odd)\n"
      ],
      "metadata": {
        "id": "LLY6uD9Slzx_"
      },
      "execution_count": null,
      "outputs": []
    },
    {
      "cell_type": "code",
      "source": [
        "def list_append(my_list, elem):\n",
        "  '''\n",
        "  This function appenda an element to the list\n",
        "  '''\n",
        "  new_list = my_list + [elem]\n",
        "  return new_list\n",
        "\n",
        "my_list = [1,2,3]\n",
        "new_list = list_append(my_list, 4)\n",
        "print(new_list)"
      ],
      "metadata": {
        "id": "1MwqnnRblz0c",
        "colab": {
          "base_uri": "https://localhost:8080/"
        },
        "outputId": "bd1e3ca5-b990-4069-9893-4291244f7e0d"
      },
      "execution_count": null,
      "outputs": [
        {
          "output_type": "stream",
          "name": "stdout",
          "text": [
            "[1, 2, 3, 4]\n"
          ]
        }
      ]
    },
    {
      "cell_type": "code",
      "source": [
        "heights = [161, 164, 156, 144, 158, 170, 163, 163, 153]\n"
      ],
      "metadata": {
        "id": "jz2_yn-Xlz3E"
      },
      "execution_count": null,
      "outputs": []
    },
    {
      "cell_type": "code",
      "source": [
        "print(heights)"
      ],
      "metadata": {
        "id": "_q003XdfSMjy",
        "colab": {
          "base_uri": "https://localhost:8080/"
        },
        "outputId": "5c503535-13b0-4197-817e-0e96ca0d4226"
      },
      "execution_count": null,
      "outputs": [
        {
          "output_type": "stream",
          "name": "stdout",
          "text": [
            "[161, 164, 156, 144, 158, 170, 163, 163, 153]\n"
          ]
        }
      ]
    },
    {
      "cell_type": "code",
      "source": [
        "list_append(heights,190)"
      ],
      "metadata": {
        "colab": {
          "base_uri": "https://localhost:8080/"
        },
        "id": "jgAhihbCRcSa",
        "outputId": "262f9ca1-2cd7-4e82-aa90-21ea54447634"
      },
      "execution_count": null,
      "outputs": [
        {
          "output_type": "execute_result",
          "data": {
            "text/plain": [
              "[161, 164, 156, 144, 158, 170, 163, 163, 153, 190]"
            ]
          },
          "metadata": {},
          "execution_count": 56
        }
      ]
    },
    {
      "cell_type": "code",
      "source": [
        "print(heights)"
      ],
      "metadata": {
        "colab": {
          "base_uri": "https://localhost:8080/"
        },
        "id": "o4CodyC4RcVW",
        "outputId": "ed2e6e37-e8cf-45aa-80eb-f6c780fa9803"
      },
      "execution_count": null,
      "outputs": [
        {
          "output_type": "stream",
          "name": "stdout",
          "text": [
            "[161, 164, 156, 144, 158, 170, 163, 163, 153]\n"
          ]
        }
      ]
    },
    {
      "cell_type": "code",
      "source": [
        "list_append(heights,190)"
      ],
      "metadata": {
        "colab": {
          "base_uri": "https://localhost:8080/"
        },
        "id": "yHW8lIOGRcYg",
        "outputId": "11315433-636c-46c4-cc58-b2c9d5efd208"
      },
      "execution_count": null,
      "outputs": [
        {
          "output_type": "execute_result",
          "data": {
            "text/plain": [
              "[161, 164, 156, 144, 158, 170, 163, 163, 153, 190]"
            ]
          },
          "metadata": {},
          "execution_count": 58
        }
      ]
    },
    {
      "cell_type": "code",
      "source": [
        "print(heights)"
      ],
      "metadata": {
        "colab": {
          "base_uri": "https://localhost:8080/"
        },
        "id": "aTO6knJMRcbV",
        "outputId": "6ef0ebbf-823d-436f-cbed-6d9dc9d52901"
      },
      "execution_count": null,
      "outputs": [
        {
          "output_type": "stream",
          "name": "stdout",
          "text": [
            "[161, 164, 156, 144, 158, 170, 163, 163, 153]\n"
          ]
        }
      ]
    },
    {
      "cell_type": "code",
      "source": [
        "heights.append(60)\n",
        "print(heights)"
      ],
      "metadata": {
        "colab": {
          "base_uri": "https://localhost:8080/"
        },
        "id": "HYocZWXoR22c",
        "outputId": "5265dba1-bf5e-439d-cfec-bfcef5c796e1"
      },
      "execution_count": null,
      "outputs": [
        {
          "output_type": "stream",
          "name": "stdout",
          "text": [
            "[161, 164, 156, 144, 158, 170, 163, 163, 153, 60, 60, 60, 60]\n"
          ]
        }
      ]
    },
    {
      "cell_type": "code",
      "source": [
        "def experimnent():\n",
        "  global X\n",
        "  X = 50\n",
        "  return X\n",
        "\n",
        "X = 25\n",
        "experimnent()\n",
        "\n"
      ],
      "metadata": {
        "colab": {
          "base_uri": "https://localhost:8080/"
        },
        "id": "EPf2qqt-R247",
        "outputId": "3aa4a475-bb36-4409-b958-dbdd23c5e9e2"
      },
      "execution_count": null,
      "outputs": [
        {
          "output_type": "execute_result",
          "data": {
            "text/plain": [
              "50"
            ]
          },
          "metadata": {},
          "execution_count": 83
        }
      ]
    },
    {
      "cell_type": "code",
      "source": [
        "experimnent()"
      ],
      "metadata": {
        "colab": {
          "base_uri": "https://localhost:8080/"
        },
        "id": "VBm94hBmR272",
        "outputId": "7d0b7eae-4aed-4d4e-d02a-4591358b58ab"
      },
      "execution_count": null,
      "outputs": [
        {
          "output_type": "execute_result",
          "data": {
            "text/plain": [
              "50"
            ]
          },
          "metadata": {},
          "execution_count": 84
        }
      ]
    },
    {
      "cell_type": "code",
      "source": [
        "X"
      ],
      "metadata": {
        "colab": {
          "base_uri": "https://localhost:8080/"
        },
        "id": "t_Xc5_JWR2_R",
        "outputId": "6cb63590-7d89-4e23-ee55-0e4e7d2b0bd5"
      },
      "execution_count": null,
      "outputs": [
        {
          "output_type": "execute_result",
          "data": {
            "text/plain": [
              "50"
            ]
          },
          "metadata": {},
          "execution_count": 85
        }
      ]
    },
    {
      "cell_type": "code",
      "source": [
        "def new_expriment():\n",
        "  x = 50\n",
        "  return x\n",
        "\n",
        "x = 40\n",
        "x"
      ],
      "metadata": {
        "colab": {
          "base_uri": "https://localhost:8080/"
        },
        "id": "vQ0ISRHvRceN",
        "outputId": "3998bf95-0a3b-4705-d1cd-e8c82755e56c"
      },
      "execution_count": null,
      "outputs": [
        {
          "output_type": "execute_result",
          "data": {
            "text/plain": [
              "40"
            ]
          },
          "metadata": {},
          "execution_count": 86
        }
      ]
    },
    {
      "cell_type": "code",
      "source": [
        "new_expriment()"
      ],
      "metadata": {
        "colab": {
          "base_uri": "https://localhost:8080/"
        },
        "id": "CuJQBuFERchH",
        "outputId": "751f108a-d9ed-4cba-8b49-ce6b4f8ae05d"
      },
      "execution_count": null,
      "outputs": [
        {
          "output_type": "execute_result",
          "data": {
            "text/plain": [
              "50"
            ]
          },
          "metadata": {},
          "execution_count": 87
        }
      ]
    },
    {
      "cell_type": "code",
      "source": [],
      "metadata": {
        "id": "CQmURYVKRckd"
      },
      "execution_count": null,
      "outputs": []
    }
  ]
}