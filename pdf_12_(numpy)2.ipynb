{
  "nbformat": 4,
  "nbformat_minor": 0,
  "metadata": {
    "colab": {
      "provenance": [],
      "authorship_tag": "ABX9TyNNr022q3yMxTIUCHKUEmqX",
      "include_colab_link": true
    },
    "kernelspec": {
      "name": "python3",
      "display_name": "Python 3"
    },
    "language_info": {
      "name": "python"
    }
  },
  "cells": [
    {
      "cell_type": "markdown",
      "metadata": {
        "id": "view-in-github",
        "colab_type": "text"
      },
      "source": [
        "<a href=\"https://colab.research.google.com/github/ANKITA4545/Assignment-1-data-science-/blob/main/pdf_12_(numpy)2.ipynb\" target=\"_parent\"><img src=\"https://colab.research.google.com/assets/colab-badge.svg\" alt=\"Open In Colab\"/></a>"
      ]
    },
    {
      "cell_type": "code",
      "execution_count": 2,
      "metadata": {
        "id": "kMULm6sCgMP8",
        "colab": {
          "base_uri": "https://localhost:8080/"
        },
        "outputId": "f0e95db0-4459-4df7-a11f-f5a65f6d505f"
      },
      "outputs": [
        {
          "output_type": "stream",
          "name": "stdout",
          "text": [
            "The defined array is \n",
            "[[16 22]\n",
            " [22 44]\n",
            " [21 23]\n",
            " [11 18]\n",
            " [16 30]\n",
            " [44 22]\n",
            " [29 15]\n",
            " [17 32]]\n",
            " \n",
            " The shape of the array is (8, 2)\n"
          ]
        }
      ],
      "source": [
        "import numpy as np\n",
        "arravali = np.array(np.random.randint(10,45,(8,2)))\n",
        "print(f\"The defined array is \\n{arravali}\")\n",
        "\n",
        "print(f\" \\n The shape of the array is {arravali.shape}\")"
      ]
    },
    {
      "cell_type": "code",
      "source": [
        "nilgiri =np.transpose(arravali)\n",
        "print(f\" The transpose of the array is \\n{nilgiri}\")\n",
        "print(f\" \\n The shape of the array is {nilgiri.shape}\")"
      ],
      "metadata": {
        "id": "w2cqya8GgZkN",
        "colab": {
          "base_uri": "https://localhost:8080/"
        },
        "outputId": "55374329-d664-4ce8-81ae-46bf0b5e0342"
      },
      "execution_count": 4,
      "outputs": [
        {
          "output_type": "stream",
          "name": "stdout",
          "text": [
            " The transpose of the array is \n",
            "[[16 22 21 11 16 44 29 17]\n",
            " [22 44 23 18 30 22 15 32]]\n",
            " \n",
            " The shape of the array is (2, 8)\n"
          ]
        }
      ]
    },
    {
      "cell_type": "code",
      "source": [
        "random_3d_array = np.array(np.random.randint(10,45,(3,2,4)))\n",
        "print(f\"The defined array is \\n{random_3d_array}\")\n",
        "\n",
        "print(f\" \\n The shape of the array is {random_3d_array.shape}\")"
      ],
      "metadata": {
        "id": "2hVm1J9mgZnU",
        "colab": {
          "base_uri": "https://localhost:8080/"
        },
        "outputId": "7c62122d-acb0-4a4d-ff8a-d5bd1092d6f3"
      },
      "execution_count": 5,
      "outputs": [
        {
          "output_type": "stream",
          "name": "stdout",
          "text": [
            "The defined array is \n",
            "[[[25 31 14 29]\n",
            "  [39 11 18 36]]\n",
            "\n",
            " [[30 27 24 10]\n",
            "  [14 23 11 42]]\n",
            "\n",
            " [[26 39 17 27]\n",
            "  [17 36 29 39]]]\n",
            " \n",
            " The shape of the array is (3, 2, 4)\n"
          ]
        }
      ]
    },
    {
      "cell_type": "code",
      "source": [
        "transposed_3d_array =np.transpose(random_3d_array)\n",
        "\n",
        "print(f\" The transpose of the array is \\n{transposed_3d_array}\")\n",
        "print(f\" \\n The shape of the array is {transposed_3d_array.shape}\")"
      ],
      "metadata": {
        "id": "bYI4HraDgZqA",
        "colab": {
          "base_uri": "https://localhost:8080/"
        },
        "outputId": "686659ab-fb62-4c2d-c932-091e9f6972a0"
      },
      "execution_count": 6,
      "outputs": [
        {
          "output_type": "stream",
          "name": "stdout",
          "text": [
            " The transpose of the array is \n",
            "[[[25 30 26]\n",
            "  [39 14 17]]\n",
            "\n",
            " [[31 27 39]\n",
            "  [11 23 36]]\n",
            "\n",
            " [[14 24 17]\n",
            "  [18 11 29]]\n",
            "\n",
            " [[29 10 27]\n",
            "  [36 42 39]]]\n",
            " \n",
            " The shape of the array is (4, 2, 3)\n"
          ]
        }
      ]
    },
    {
      "cell_type": "code",
      "source": [
        "random_cohort = np.array(np.random. randint(10,45,(3,8))) # 2D\n",
        "print(f\"The defined array is \\n{random_cohort}\")\n",
        "\n",
        "print(f\" \\n The shape of the array is {random_cohort.shape}\")"
      ],
      "metadata": {
        "id": "CitSGqepgZtG",
        "colab": {
          "base_uri": "https://localhost:8080/"
        },
        "outputId": "760f8928-a019-4c51-ad93-574e855d33a3"
      },
      "execution_count": 7,
      "outputs": [
        {
          "output_type": "stream",
          "name": "stdout",
          "text": [
            "The defined array is \n",
            "[[39 37 11 44 10 13 43 27]\n",
            " [28 19 25 11 16 38 20 25]\n",
            " [13 12 43 26 24 40 32 41]]\n",
            " \n",
            " The shape of the array is (3, 8)\n"
          ]
        }
      ]
    },
    {
      "cell_type": "code",
      "source": [
        "new_shape = (2,6,2)\n",
        "\n",
        "reshaped_random_cohort = np.reshape(random_cohort, new_shape)\n",
        "print(f\"The reshaped array is \\n{reshaped_random_cohort}\")\n",
        "\n",
        "print(f\" \\n The shape of the array is {reshaped_random_cohort.shape}\")"
      ],
      "metadata": {
        "colab": {
          "base_uri": "https://localhost:8080/"
        },
        "id": "uafuEAUQAdsp",
        "outputId": "3d44ad68-b781-4ce8-bca1-4abce67c7a5d"
      },
      "execution_count": 8,
      "outputs": [
        {
          "output_type": "stream",
          "name": "stdout",
          "text": [
            "The reshaped array is \n",
            "[[[39 37]\n",
            "  [11 44]\n",
            "  [10 13]\n",
            "  [43 27]\n",
            "  [28 19]\n",
            "  [25 11]]\n",
            "\n",
            " [[16 38]\n",
            "  [20 25]\n",
            "  [13 12]\n",
            "  [43 26]\n",
            "  [24 40]\n",
            "  [32 41]]]\n",
            " \n",
            " The shape of the array is (2, 6, 2)\n"
          ]
        }
      ]
    },
    {
      "cell_type": "code",
      "source": [
        "random_3D_cohort = np.array(np.random.randint(10,45,(3,6,2)))\n",
        "print(f\"The defined array is \\n{random_3D_cohort}\")\n",
        "\n",
        "print(f\" \\n The shape of the array is {random_3D_cohort.shape}\")"
      ],
      "metadata": {
        "colab": {
          "base_uri": "https://localhost:8080/"
        },
        "id": "hXVG5rxVAdx3",
        "outputId": "a4107786-ed03-4c35-f91b-1959aad6d3bd"
      },
      "execution_count": 10,
      "outputs": [
        {
          "output_type": "stream",
          "name": "stdout",
          "text": [
            "The defined array is \n",
            "[[[11 32]\n",
            "  [25 23]\n",
            "  [14 13]\n",
            "  [17 21]\n",
            "  [24 35]\n",
            "  [41 34]]\n",
            "\n",
            " [[37 20]\n",
            "  [25 12]\n",
            "  [10 21]\n",
            "  [18 16]\n",
            "  [10 40]\n",
            "  [38 40]]\n",
            "\n",
            " [[17 10]\n",
            "  [27 22]\n",
            "  [41 15]\n",
            "  [29 21]\n",
            "  [25 37]\n",
            "  [32 38]]]\n",
            " \n",
            " The shape of the array is (3, 6, 2)\n"
          ]
        }
      ]
    },
    {
      "cell_type": "code",
      "source": [
        "\n",
        "new_shape = (2,-1,6)\n",
        "\n",
        "reshaped_random_3D_cohort = np.reshape(random_3D_cohort, new_shape)\n",
        "print(f\"The reshaped array is \\n{reshaped_random_3D_cohort}\")\n",
        "\n",
        "print(f\" \\n The shape of the array is {reshaped_random_3D_cohort.shape}\")"
      ],
      "metadata": {
        "colab": {
          "base_uri": "https://localhost:8080/"
        },
        "id": "uD4GGt56Ad1V",
        "outputId": "86cdaa02-d40f-49c1-dae0-77a87db19854"
      },
      "execution_count": 11,
      "outputs": [
        {
          "output_type": "stream",
          "name": "stdout",
          "text": [
            "The reshaped array is \n",
            "[[[11 32 25 23 14 13]\n",
            "  [17 21 24 35 41 34]\n",
            "  [37 20 25 12 10 21]]\n",
            "\n",
            " [[18 16 10 40 38 40]\n",
            "  [17 10 27 22 41 15]\n",
            "  [29 21 25 37 32 38]]]\n",
            " \n",
            " The shape of the array is (2, 3, 6)\n"
          ]
        }
      ]
    },
    {
      "cell_type": "code",
      "source": [
        "random_3D_cohort = np.array(np.random.randint(16,45,(2,4,6)))\n",
        "print(f\"The defined array is \\n{random_3D_cohort}\")\n",
        "\n",
        "print(f\" \\n The shape of the array is {random_3D_cohort.shape}\")"
      ],
      "metadata": {
        "colab": {
          "base_uri": "https://localhost:8080/"
        },
        "id": "7JTateB-Ad61",
        "outputId": "5f29f60f-6d81-46ca-936e-7e9dbdf83196"
      },
      "execution_count": 12,
      "outputs": [
        {
          "output_type": "stream",
          "name": "stdout",
          "text": [
            "The defined array is \n",
            "[[[23 37 20 38 40 16]\n",
            "  [28 19 26 24 26 27]\n",
            "  [39 16 37 41 18 35]\n",
            "  [36 40 20 35 31 38]]\n",
            "\n",
            " [[18 28 43 20 18 34]\n",
            "  [31 29 40 31 44 22]\n",
            "  [20 35 30 42 22 24]\n",
            "  [44 34 38 28 34 18]]]\n",
            " \n",
            " The shape of the array is (2, 4, 6)\n"
          ]
        }
      ]
    },
    {
      "cell_type": "code",
      "source": [
        "new_shape = (2,3,6)\n",
        "\n",
        "resized_random_3D_cohort = np.resize(random_3D_cohort,new_shape)\n",
        "print(f\"The resized array is \\n{resized_random_3D_cohort}\")\n",
        "\n",
        "print(f\" \\n The shape of the array is {resized_random_3D_cohort.shape}\")"
      ],
      "metadata": {
        "colab": {
          "base_uri": "https://localhost:8080/"
        },
        "id": "Ut4zlKuqBQzL",
        "outputId": "2fbc467f-dc57-4b70-a6ec-8ca750587688"
      },
      "execution_count": 13,
      "outputs": [
        {
          "output_type": "stream",
          "name": "stdout",
          "text": [
            "The resized array is \n",
            "[[[23 37 20 38 40 16]\n",
            "  [28 19 26 24 26 27]\n",
            "  [39 16 37 41 18 35]]\n",
            "\n",
            " [[36 40 20 35 31 38]\n",
            "  [18 28 43 20 18 34]\n",
            "  [31 29 40 31 44 22]]]\n",
            " \n",
            " The shape of the array is (2, 3, 6)\n"
          ]
        }
      ]
    },
    {
      "cell_type": "code",
      "source": [
        "random_3D_cohort.resize(new_shape, refcheck=False)\n",
        "\n",
        "\n",
        "print(random_3D_cohort)"
      ],
      "metadata": {
        "colab": {
          "base_uri": "https://localhost:8080/"
        },
        "id": "4z-OnWOVBQ1-",
        "outputId": "a9a3b296-c5bb-4fa0-e6d5-5c5547dae165"
      },
      "execution_count": 19,
      "outputs": [
        {
          "output_type": "stream",
          "name": "stdout",
          "text": [
            "[[[23 37 20 38 40 16]\n",
            "  [28 19 26 24 26 27]\n",
            "  [39 16 37 41 18 35]]\n",
            "\n",
            " [[36 40 20 35 31 38]\n",
            "  [18 28 43 20 18 34]\n",
            "  [31 29 40 31 44 22]]]\n"
          ]
        }
      ]
    },
    {
      "cell_type": "code",
      "source": [
        "random_3D_cohort = np.array(np.random. randint(16,45,(2,4,6)))\n",
        "print(f\"The defined array is \\n{random_3D_cohort}\")\n",
        "\n",
        "print(f\" \\n The shape of the array is {random_3D_cohort.shape}\")"
      ],
      "metadata": {
        "colab": {
          "base_uri": "https://localhost:8080/"
        },
        "id": "x2mboH7-BQ4u",
        "outputId": "be29fb1f-9996-43c0-e34d-3c28c16ad786"
      },
      "execution_count": 21,
      "outputs": [
        {
          "output_type": "stream",
          "name": "stdout",
          "text": [
            "The defined array is \n",
            "[[[29 41 32 38 20 40]\n",
            "  [36 35 32 24 36 31]\n",
            "  [20 24 39 27 42 28]\n",
            "  [38 24 36 43 31 17]]\n",
            "\n",
            " [[29 29 22 29 44 21]\n",
            "  [34 41 31 37 21 25]\n",
            "  [28 31 28 26 43 43]\n",
            "  [18 43 24 39 30 16]]]\n",
            " \n",
            " The shape of the array is (2, 4, 6)\n"
          ]
        }
      ]
    },
    {
      "cell_type": "code",
      "source": [
        "random_3D_cohort.flatten()"
      ],
      "metadata": {
        "colab": {
          "base_uri": "https://localhost:8080/"
        },
        "id": "rUUKuCMdBQ8F",
        "outputId": "eaa92180-874b-4f2a-f53d-3cf7c7577c60"
      },
      "execution_count": 22,
      "outputs": [
        {
          "output_type": "execute_result",
          "data": {
            "text/plain": [
              "array([29, 41, 32, 38, 20, 40, 36, 35, 32, 24, 36, 31, 20, 24, 39, 27, 42,\n",
              "       28, 38, 24, 36, 43, 31, 17, 29, 29, 22, 29, 44, 21, 34, 41, 31, 37,\n",
              "       21, 25, 28, 31, 28, 26, 43, 43, 18, 43, 24, 39, 30, 16])"
            ]
          },
          "metadata": {},
          "execution_count": 22
        }
      ]
    },
    {
      "cell_type": "code",
      "source": [
        "random_3D_cohort.flatten(order='F')"
      ],
      "metadata": {
        "colab": {
          "base_uri": "https://localhost:8080/"
        },
        "id": "h1XpYQZ3BR5S",
        "outputId": "d4bd87dc-e87b-464d-d527-61166b481fad"
      },
      "execution_count": 23,
      "outputs": [
        {
          "output_type": "execute_result",
          "data": {
            "text/plain": [
              "array([29, 29, 36, 34, 20, 28, 38, 18, 41, 29, 35, 41, 24, 31, 24, 43, 32,\n",
              "       22, 32, 31, 39, 28, 36, 24, 38, 29, 24, 37, 27, 26, 43, 39, 20, 44,\n",
              "       36, 21, 42, 43, 31, 30, 40, 21, 31, 25, 28, 43, 17, 16])"
            ]
          },
          "metadata": {},
          "execution_count": 23
        }
      ]
    },
    {
      "cell_type": "code",
      "source": [
        "\n",
        "a = np.random. randint(10, 26, (2,3,4)) # Axis @ - 2 3; Axis 1-3 5 Axis 2-4\n",
        "print(a)\n",
        "\n",
        "print (a.shape)"
      ],
      "metadata": {
        "colab": {
          "base_uri": "https://localhost:8080/"
        },
        "id": "2qCD5s-XBR80",
        "outputId": "c581724d-8727-439b-e799-0426c286f4a2"
      },
      "execution_count": 26,
      "outputs": [
        {
          "output_type": "stream",
          "name": "stdout",
          "text": [
            "[[[11 14 12 16]\n",
            "  [25 25 21 14]\n",
            "  [25 13 19 15]]\n",
            "\n",
            " [[24 20 23 17]\n",
            "  [24 13 19 22]\n",
            "  [11 24 13 23]]]\n",
            "(2, 3, 4)\n"
          ]
        }
      ]
    },
    {
      "cell_type": "code",
      "source": [
        "np.insert(a,1,100,axis=0)"
      ],
      "metadata": {
        "colab": {
          "base_uri": "https://localhost:8080/"
        },
        "id": "09zo7rY7Ad-T",
        "outputId": "3328419e-4952-44dc-8614-dc5ae870ce76"
      },
      "execution_count": 27,
      "outputs": [
        {
          "output_type": "execute_result",
          "data": {
            "text/plain": [
              "array([[[ 11,  14,  12,  16],\n",
              "        [ 25,  25,  21,  14],\n",
              "        [ 25,  13,  19,  15]],\n",
              "\n",
              "       [[100, 100, 100, 100],\n",
              "        [100, 100, 100, 100],\n",
              "        [100, 100, 100, 100]],\n",
              "\n",
              "       [[ 24,  20,  23,  17],\n",
              "        [ 24,  13,  19,  22],\n",
              "        [ 11,  24,  13,  23]]])"
            ]
          },
          "metadata": {},
          "execution_count": 27
        }
      ]
    },
    {
      "cell_type": "code",
      "source": [
        "np.insert(a,0,50,axis=1)"
      ],
      "metadata": {
        "id": "eWo9pV-zgZv3",
        "colab": {
          "base_uri": "https://localhost:8080/"
        },
        "outputId": "eb7e4e7d-d917-4491-bfe3-67e8387a62f9"
      },
      "execution_count": 28,
      "outputs": [
        {
          "output_type": "execute_result",
          "data": {
            "text/plain": [
              "array([[[50, 50, 50, 50],\n",
              "        [11, 14, 12, 16],\n",
              "        [25, 25, 21, 14],\n",
              "        [25, 13, 19, 15]],\n",
              "\n",
              "       [[50, 50, 50, 50],\n",
              "        [24, 20, 23, 17],\n",
              "        [24, 13, 19, 22],\n",
              "        [11, 24, 13, 23]]])"
            ]
          },
          "metadata": {},
          "execution_count": 28
        }
      ]
    },
    {
      "cell_type": "code",
      "source": [
        "\n",
        "a = np.random. randint(2,6,(2,3,3))\n",
        "\n",
        "print(a)\n",
        "print(a.shape)"
      ],
      "metadata": {
        "colab": {
          "base_uri": "https://localhost:8080/"
        },
        "id": "oEsc3NRuDgfY",
        "outputId": "dc9f1174-3fd5-4788-fe1f-1c0bfafccb87"
      },
      "execution_count": 30,
      "outputs": [
        {
          "output_type": "stream",
          "name": "stdout",
          "text": [
            "[[[5 2 5]\n",
            "  [4 4 2]\n",
            "  [2 3 2]]\n",
            "\n",
            " [[3 4 4]\n",
            "  [2 5 2]\n",
            "  [4 4 2]]]\n",
            "(2, 3, 3)\n"
          ]
        }
      ]
    },
    {
      "cell_type": "code",
      "source": [
        "np.append(a, 50)"
      ],
      "metadata": {
        "colab": {
          "base_uri": "https://localhost:8080/"
        },
        "id": "PyIZECeaDgiJ",
        "outputId": "9d8aae29-1ada-40c8-c543-4e3a7af8c435"
      },
      "execution_count": 31,
      "outputs": [
        {
          "output_type": "execute_result",
          "data": {
            "text/plain": [
              "array([ 5,  2,  5,  4,  4,  2,  2,  3,  2,  3,  4,  4,  2,  5,  2,  4,  4,\n",
              "        2, 50])"
            ]
          },
          "metadata": {},
          "execution_count": 31
        }
      ]
    },
    {
      "cell_type": "code",
      "source": [
        "b = np.random.randint(2,6,(2,1,3))\n",
        "\n",
        "print(b)"
      ],
      "metadata": {
        "colab": {
          "base_uri": "https://localhost:8080/"
        },
        "id": "qzkxmwCtDgkz",
        "outputId": "aeb7e428-e260-4b59-df28-be1ad17c204d"
      },
      "execution_count": 32,
      "outputs": [
        {
          "output_type": "stream",
          "name": "stdout",
          "text": [
            "[[[4 4 3]]\n",
            "\n",
            " [[2 2 5]]]\n"
          ]
        }
      ]
    },
    {
      "cell_type": "code",
      "source": [
        "print(a)\n",
        "print (a.shape)"
      ],
      "metadata": {
        "colab": {
          "base_uri": "https://localhost:8080/"
        },
        "id": "yOa6CtdOEmck",
        "outputId": "79756830-9ba6-45f2-9198-20db3ce49a0d"
      },
      "execution_count": 33,
      "outputs": [
        {
          "output_type": "stream",
          "name": "stdout",
          "text": [
            "[[[5 2 5]\n",
            "  [4 4 2]\n",
            "  [2 3 2]]\n",
            "\n",
            " [[3 4 4]\n",
            "  [2 5 2]\n",
            "  [4 4 2]]]\n",
            "(2, 3, 3)\n"
          ]
        }
      ]
    },
    {
      "cell_type": "code",
      "source": [
        "np.append(a,b,axis = 1)"
      ],
      "metadata": {
        "colab": {
          "base_uri": "https://localhost:8080/"
        },
        "id": "7smcOTvXEmfU",
        "outputId": "d2214125-bd9f-41ef-b52e-9325820ee8d6"
      },
      "execution_count": 34,
      "outputs": [
        {
          "output_type": "execute_result",
          "data": {
            "text/plain": [
              "array([[[5, 2, 5],\n",
              "        [4, 4, 2],\n",
              "        [2, 3, 2],\n",
              "        [4, 4, 3]],\n",
              "\n",
              "       [[3, 4, 4],\n",
              "        [2, 5, 2],\n",
              "        [4, 4, 2],\n",
              "        [2, 2, 5]]])"
            ]
          },
          "metadata": {},
          "execution_count": 34
        }
      ]
    },
    {
      "cell_type": "code",
      "source": [
        "a = np.random.randint(2,20,(2,3,3))\n",
        "print(a)\n",
        "\n",
        "print (a.shape)"
      ],
      "metadata": {
        "colab": {
          "base_uri": "https://localhost:8080/"
        },
        "id": "e7jS6zASEmiI",
        "outputId": "8d980e80-208e-48aa-ed9e-8a493bc132d3"
      },
      "execution_count": 35,
      "outputs": [
        {
          "output_type": "stream",
          "name": "stdout",
          "text": [
            "[[[17 17 18]\n",
            "  [15 14 19]\n",
            "  [ 5 12  7]]\n",
            "\n",
            " [[11  4 11]\n",
            "  [17  5 10]\n",
            "  [16  9 12]]]\n",
            "(2, 3, 3)\n"
          ]
        }
      ]
    },
    {
      "cell_type": "code",
      "source": [
        "np.unique(a)"
      ],
      "metadata": {
        "colab": {
          "base_uri": "https://localhost:8080/"
        },
        "id": "tD1JUSALEmkd",
        "outputId": "64263d1c-8637-41d8-a5fd-58a91b0d88b2"
      },
      "execution_count": 36,
      "outputs": [
        {
          "output_type": "execute_result",
          "data": {
            "text/plain": [
              "array([ 4,  5,  7,  9, 10, 11, 12, 14, 15, 16, 17, 18, 19])"
            ]
          },
          "metadata": {},
          "execution_count": 36
        }
      ]
    },
    {
      "cell_type": "code",
      "source": [
        "np.unique(a,return_counts=True) # Returns tuple"
      ],
      "metadata": {
        "colab": {
          "base_uri": "https://localhost:8080/"
        },
        "id": "xy-EpyOoEmng",
        "outputId": "a0c8d897-5768-42ac-bb7e-5c563b1ee1f4"
      },
      "execution_count": 37,
      "outputs": [
        {
          "output_type": "execute_result",
          "data": {
            "text/plain": [
              "(array([ 4,  5,  7,  9, 10, 11, 12, 14, 15, 16, 17, 18, 19]),\n",
              " array([1, 2, 1, 1, 1, 2, 2, 1, 1, 1, 3, 1, 1]))"
            ]
          },
          "metadata": {},
          "execution_count": 37
        }
      ]
    },
    {
      "cell_type": "code",
      "source": [
        "np.unique(a, return_counts=True, return_index=True)"
      ],
      "metadata": {
        "colab": {
          "base_uri": "https://localhost:8080/"
        },
        "id": "t__1Ny4xEmqh",
        "outputId": "06676a3c-1e51-4444-cf3e-9450f017e5f0"
      },
      "execution_count": 38,
      "outputs": [
        {
          "output_type": "execute_result",
          "data": {
            "text/plain": [
              "(array([ 4,  5,  7,  9, 10, 11, 12, 14, 15, 16, 17, 18, 19]),\n",
              " array([10,  6,  8, 16, 14,  9,  7,  4,  3, 15,  0,  2,  5]),\n",
              " array([1, 2, 1, 1, 1, 2, 2, 1, 1, 1, 3, 1, 1]))"
            ]
          },
          "metadata": {},
          "execution_count": 38
        }
      ]
    },
    {
      "cell_type": "code",
      "source": [
        "a = [1,2,3]\n",
        "\n",
        "b = a\n",
        "\n",
        "b[0] = 108\n",
        "\n",
        "print(b)\n",
        "\n",
        "print(a)"
      ],
      "metadata": {
        "colab": {
          "base_uri": "https://localhost:8080/"
        },
        "id": "lMR0uNn_Emt1",
        "outputId": "f4de2877-06a4-4ea3-a523-1524e23c5c08"
      },
      "execution_count": 39,
      "outputs": [
        {
          "output_type": "stream",
          "name": "stdout",
          "text": [
            "[108, 2, 3]\n",
            "[108, 2, 3]\n"
          ]
        }
      ]
    },
    {
      "cell_type": "code",
      "source": [
        "a = [1,2,3]\n",
        "\n",
        "b = a.copy()\n",
        "\n",
        "b[0] = 10\n",
        "\n",
        "print (b)\n",
        "\n",
        "print (a)"
      ],
      "metadata": {
        "colab": {
          "base_uri": "https://localhost:8080/"
        },
        "id": "nVITIXyFEmwo",
        "outputId": "fe697533-cd0f-4778-9197-7043a246dccf"
      },
      "execution_count": 40,
      "outputs": [
        {
          "output_type": "stream",
          "name": "stdout",
          "text": [
            "[10, 2, 3]\n",
            "[1, 2, 3]\n"
          ]
        }
      ]
    },
    {
      "cell_type": "code",
      "source": [
        "a = np.array([2,34,12])\n",
        "b=a\n",
        "\n",
        "b[0] = -999\n",
        "\n",
        "print(b)\n",
        "\n",
        "print(a)"
      ],
      "metadata": {
        "colab": {
          "base_uri": "https://localhost:8080/"
        },
        "id": "qOJMLT9DEm0C",
        "outputId": "e4e04979-91e4-4396-af0f-5084179ef04a"
      },
      "execution_count": 41,
      "outputs": [
        {
          "output_type": "stream",
          "name": "stdout",
          "text": [
            "[-999   34   12]\n",
            "[-999   34   12]\n"
          ]
        }
      ]
    },
    {
      "cell_type": "code",
      "source": [
        "np.array([2,34,12])\n",
        "a.copy()\n",
        "\n",
        "b[0] = -999\n",
        "\n",
        "print(b)\n"
      ],
      "metadata": {
        "colab": {
          "base_uri": "https://localhost:8080/"
        },
        "id": "2JCQvmFSDgnc",
        "outputId": "25626c0a-453e-45bd-af6b-ad58a13b7cfe"
      },
      "execution_count": 43,
      "outputs": [
        {
          "output_type": "stream",
          "name": "stdout",
          "text": [
            "[-999   34   12]\n"
          ]
        }
      ]
    },
    {
      "cell_type": "code",
      "source": [
        "np.arange(3) + 5"
      ],
      "metadata": {
        "colab": {
          "base_uri": "https://localhost:8080/"
        },
        "id": "DbXfF3CeDgq_",
        "outputId": "c87692d7-9d59-469c-b092-52f6f15edc96"
      },
      "execution_count": 44,
      "outputs": [
        {
          "output_type": "execute_result",
          "data": {
            "text/plain": [
              "array([5, 6, 7])"
            ]
          },
          "metadata": {},
          "execution_count": 44
        }
      ]
    },
    {
      "cell_type": "code",
      "source": [
        "np.ones((3,3)) + np.arange(3)"
      ],
      "metadata": {
        "id": "RRBHFDwLgZyt",
        "colab": {
          "base_uri": "https://localhost:8080/"
        },
        "outputId": "55918f0c-d3ca-403b-febf-7772478f567e"
      },
      "execution_count": 45,
      "outputs": [
        {
          "output_type": "execute_result",
          "data": {
            "text/plain": [
              "array([[1., 2., 3.],\n",
              "       [1., 2., 3.],\n",
              "       [1., 2., 3.]])"
            ]
          },
          "metadata": {},
          "execution_count": 45
        }
      ]
    },
    {
      "cell_type": "code",
      "source": [
        "np.arange(3).reshape((3,1)) + np.arange(3)"
      ],
      "metadata": {
        "id": "LtdtHalZgZ1e",
        "colab": {
          "base_uri": "https://localhost:8080/"
        },
        "outputId": "b2f63c99-52e9-4b72-ed9f-53426168e120"
      },
      "execution_count": 46,
      "outputs": [
        {
          "output_type": "execute_result",
          "data": {
            "text/plain": [
              "array([[0, 1, 2],\n",
              "       [1, 2, 3],\n",
              "       [2, 3, 4]])"
            ]
          },
          "metadata": {},
          "execution_count": 46
        }
      ]
    },
    {
      "cell_type": "code",
      "source": [
        "\n",
        "np. arange(3).reshape((3,1)) + np.arange(4)\n"
      ],
      "metadata": {
        "id": "j0-Vq4SfgZ4h",
        "colab": {
          "base_uri": "https://localhost:8080/"
        },
        "outputId": "627f3390-d144-47b8-ddc5-468bb2056600"
      },
      "execution_count": 47,
      "outputs": [
        {
          "output_type": "execute_result",
          "data": {
            "text/plain": [
              "array([[0, 1, 2, 3],\n",
              "       [1, 2, 3, 4],\n",
              "       [2, 3, 4, 5]])"
            ]
          },
          "metadata": {},
          "execution_count": 47
        }
      ]
    },
    {
      "cell_type": "code",
      "source": [
        "np.arange(2)"
      ],
      "metadata": {
        "colab": {
          "base_uri": "https://localhost:8080/"
        },
        "id": "LCwoiJGYIQ8J",
        "outputId": "ffe5a42f-39ba-458a-fedf-bf492ff76bcd"
      },
      "execution_count": 49,
      "outputs": [
        {
          "output_type": "execute_result",
          "data": {
            "text/plain": [
              "array([0, 1])"
            ]
          },
          "metadata": {},
          "execution_count": 49
        }
      ]
    },
    {
      "cell_type": "code",
      "source": [
        "a=np.random.randint(2,6,(2,4))\n",
        "print(a)\n",
        "b=np.random.randint(1,10, (2,2))\n",
        "print (b)"
      ],
      "metadata": {
        "colab": {
          "base_uri": "https://localhost:8080/"
        },
        "id": "v_7zSQZ9IQ_F",
        "outputId": "847c66e9-bfac-4694-c91f-40757fa9518f"
      },
      "execution_count": 50,
      "outputs": [
        {
          "output_type": "stream",
          "name": "stdout",
          "text": [
            "[[4 2 4 3]\n",
            " [2 3 4 2]]\n",
            "[[7 2]\n",
            " [7 6]]\n"
          ]
        }
      ]
    },
    {
      "cell_type": "code",
      "source": [
        "np.add(a,b)"
      ],
      "metadata": {
        "colab": {
          "base_uri": "https://localhost:8080/",
          "height": 141
        },
        "id": "Cpr4wx4aIRBv",
        "outputId": "6022786e-00e2-4949-db4f-e76446a918a9"
      },
      "execution_count": 51,
      "outputs": [
        {
          "output_type": "error",
          "ename": "ValueError",
          "evalue": "operands could not be broadcast together with shapes (2,4) (2,2) ",
          "traceback": [
            "\u001b[0;31m---------------------------------------------------------------------------\u001b[0m",
            "\u001b[0;31mValueError\u001b[0m                                Traceback (most recent call last)",
            "\u001b[0;32m<ipython-input-51-d5ce9f282037>\u001b[0m in \u001b[0;36m<cell line: 0>\u001b[0;34m()\u001b[0m\n\u001b[0;32m----> 1\u001b[0;31m \u001b[0mnp\u001b[0m\u001b[0;34m.\u001b[0m\u001b[0madd\u001b[0m\u001b[0;34m(\u001b[0m\u001b[0ma\u001b[0m\u001b[0;34m,\u001b[0m\u001b[0mb\u001b[0m\u001b[0;34m)\u001b[0m\u001b[0;34m\u001b[0m\u001b[0;34m\u001b[0m\u001b[0m\n\u001b[0m",
            "\u001b[0;31mValueError\u001b[0m: operands could not be broadcast together with shapes (2,4) (2,2) "
          ]
        }
      ]
    },
    {
      "cell_type": "code",
      "source": [
        "a=np.random.randint(2,6, (2,4))\n",
        "print(a)\n",
        "b=np.random.randint(0,5,(2,4))\n",
        "print(b)"
      ],
      "metadata": {
        "colab": {
          "base_uri": "https://localhost:8080/"
        },
        "id": "0K_Smu3ZI0Z1",
        "outputId": "c761a36d-c972-45d6-995c-6e74285ccdf1"
      },
      "execution_count": 53,
      "outputs": [
        {
          "output_type": "stream",
          "name": "stdout",
          "text": [
            "[[4 3 3 2]\n",
            " [4 4 4 5]]\n",
            "[[1 1 2 2]\n",
            " [0 3 2 2]]\n"
          ]
        }
      ]
    },
    {
      "cell_type": "code",
      "source": [
        "np.multiply(a,b)"
      ],
      "metadata": {
        "colab": {
          "base_uri": "https://localhost:8080/"
        },
        "id": "doCOQhF_I0cZ",
        "outputId": "c90de03a-381d-4147-ab48-097666ceae64"
      },
      "execution_count": 54,
      "outputs": [
        {
          "output_type": "execute_result",
          "data": {
            "text/plain": [
              "array([[ 4,  3,  6,  4],\n",
              "       [ 0, 12,  8, 10]])"
            ]
          },
          "metadata": {},
          "execution_count": 54
        }
      ]
    },
    {
      "cell_type": "code",
      "source": [
        "np.divide(a,b)"
      ],
      "metadata": {
        "colab": {
          "base_uri": "https://localhost:8080/"
        },
        "id": "gvCMCnryI0fe",
        "outputId": "e1665415-ff00-405c-b6de-12a2d1718c4d"
      },
      "execution_count": 55,
      "outputs": [
        {
          "output_type": "stream",
          "name": "stderr",
          "text": [
            "<ipython-input-55-c364992e28ce>:1: RuntimeWarning: divide by zero encountered in divide\n",
            "  np.divide(a,b)\n"
          ]
        },
        {
          "output_type": "execute_result",
          "data": {
            "text/plain": [
              "array([[4.        , 3.        , 1.5       , 1.        ],\n",
              "       [       inf, 1.33333333, 2.        , 2.5       ]])"
            ]
          },
          "metadata": {},
          "execution_count": 55
        }
      ]
    },
    {
      "cell_type": "code",
      "source": [
        "\n",
        "a=np.random.randint(5,9,(2,4))\n",
        "print(a)"
      ],
      "metadata": {
        "colab": {
          "base_uri": "https://localhost:8080/"
        },
        "id": "hd7H3gfkI0jB",
        "outputId": "1b911572-3117-4278-a36d-c7bafba6ebab"
      },
      "execution_count": 56,
      "outputs": [
        {
          "output_type": "stream",
          "name": "stdout",
          "text": [
            "[[6 6 8 7]\n",
            " [5 8 5 6]]\n"
          ]
        }
      ]
    },
    {
      "cell_type": "code",
      "source": [
        "print(np.sum(a))\n",
        "print(np.sum(a,axis=0) )\n",
        "print (np.sum(a, axis=1))"
      ],
      "metadata": {
        "colab": {
          "base_uri": "https://localhost:8080/"
        },
        "id": "jvh1513UIRFE",
        "outputId": "c64a2c6d-ee53-41e5-869a-bf5949951cb2"
      },
      "execution_count": 57,
      "outputs": [
        {
          "output_type": "stream",
          "name": "stdout",
          "text": [
            "51\n",
            "[11 14 13 13]\n",
            "[27 24]\n"
          ]
        }
      ]
    },
    {
      "cell_type": "code",
      "source": [
        "print (np.min(a)) # Minimum of the entire array\n",
        "print (np.min(a,axis=0)) # Minimum across rows (axis 0)\n",
        "print (np.min(a, axis=1)) # Minimum across columns (axis 1)"
      ],
      "metadata": {
        "colab": {
          "base_uri": "https://localhost:8080/"
        },
        "id": "Kknh8FOMJmZ0",
        "outputId": "42927fe4-e823-4e2b-880c-890ff93f3802"
      },
      "execution_count": 61,
      "outputs": [
        {
          "output_type": "stream",
          "name": "stdout",
          "text": [
            "5\n",
            "[5 6 5 6]\n",
            "[6 5]\n"
          ]
        }
      ]
    },
    {
      "cell_type": "code",
      "source": [
        "print(np.sort(a, axis=1))  # Sort along axis 1 (columns) or\n",
        "print(np.sort(a, axis=0))  # Sort along axis 0 (rows)"
      ],
      "metadata": {
        "colab": {
          "base_uri": "https://localhost:8080/"
        },
        "id": "txltkAr_K7-y",
        "outputId": "47d98846-b4a4-49c8-8e02-894562126a0a"
      },
      "execution_count": 64,
      "outputs": [
        {
          "output_type": "stream",
          "name": "stdout",
          "text": [
            "[[6 6 7 8]\n",
            " [5 5 6 8]]\n",
            "[[5 6 5 6]\n",
            " [6 8 8 7]]\n"
          ]
        }
      ]
    },
    {
      "cell_type": "code",
      "source": [],
      "metadata": {
        "id": "yLplBJZLK6ZX"
      },
      "execution_count": 61,
      "outputs": []
    }
  ]
}