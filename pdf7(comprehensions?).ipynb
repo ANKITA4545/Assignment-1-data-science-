{
  "nbformat": 4,
  "nbformat_minor": 0,
  "metadata": {
    "colab": {
      "provenance": [],
      "authorship_tag": "ABX9TyM5L8ZA3NfwinJRYCmZHg9r",
      "include_colab_link": true
    },
    "kernelspec": {
      "name": "python3",
      "display_name": "Python 3"
    },
    "language_info": {
      "name": "python"
    }
  },
  "cells": [
    {
      "cell_type": "markdown",
      "metadata": {
        "id": "view-in-github",
        "colab_type": "text"
      },
      "source": [
        "<a href=\"https://colab.research.google.com/github/ANKITA4545/Assignment-1-data-science-/blob/main/pdf7(comprehensions%3F).ipynb\" target=\"_parent\"><img src=\"https://colab.research.google.com/assets/colab-badge.svg\" alt=\"Open In Colab\"/></a>"
      ]
    },
    {
      "cell_type": "code",
      "execution_count": null,
      "metadata": {
        "colab": {
          "base_uri": "https://localhost:8080/"
        },
        "id": "qitDv9bfKLNS",
        "outputId": "d282a545-650d-40a3-b108-803972fce8eb"
      },
      "outputs": [
        {
          "output_type": "stream",
          "name": "stdout",
          "text": [
            "The of squared number is[1]\n",
            "The of squared number is[1, 4]\n",
            "The of squared number is[1, 4, 16]\n",
            "The of squared number is[1, 4, 16, 36]\n",
            "The of squared number is[1, 4, 16, 36, 121]\n",
            "The of squared number is[1, 4, 16, 36, 121, 196]\n",
            "The of squared number is[1, 4, 16, 36, 121, 196, 289]\n",
            "The of squared number is[1, 4, 16, 36, 121, 196, 289, 400]\n"
          ]
        }
      ],
      "source": [
        "list_of_numbers = [1,2,4,6,11,14,17,20]\n",
        "squared_numbers = []\n",
        "for number in list_of_numbers:\n",
        "  squared_numbers.append(number**2)\n",
        "  print(f\"The of squared number is{squared_numbers}\")"
      ]
    },
    {
      "cell_type": "code",
      "source": [
        "squared_numbers = [number**2 for number in list_of_numbers]\n",
        "print(squared_numbers)"
      ],
      "metadata": {
        "colab": {
          "base_uri": "https://localhost:8080/"
        },
        "id": "GIORXf-fKzHG",
        "outputId": "9cbaa35b-a6ce-42eb-dbab-0c70928c2d11"
      },
      "execution_count": null,
      "outputs": [
        {
          "output_type": "stream",
          "name": "stdout",
          "text": [
            "[1, 4, 16, 36, 121, 196, 289, 400]\n"
          ]
        }
      ]
    },
    {
      "cell_type": "code",
      "source": [
        "print(list_of_numbers)"
      ],
      "metadata": {
        "colab": {
          "base_uri": "https://localhost:8080/"
        },
        "id": "LtvqNdEqKzKk",
        "outputId": "4d2cfa07-0cf9-49ae-a271-afeaebb64b5e"
      },
      "execution_count": null,
      "outputs": [
        {
          "output_type": "stream",
          "name": "stdout",
          "text": [
            "[1, 2, 4, 6, 11, 14, 17, 20]\n"
          ]
        }
      ]
    },
    {
      "cell_type": "code",
      "source": [
        "even_squared_numbers = [number**2 for number in list_of_numbers if number%2==0]\n",
        "print(even_squared_numbers)"
      ],
      "metadata": {
        "colab": {
          "base_uri": "https://localhost:8080/"
        },
        "id": "wmmSrDkTKzNl",
        "outputId": "544d6baa-9b1d-4ca5-a28f-da8e8e5f89ed"
      },
      "execution_count": null,
      "outputs": [
        {
          "output_type": "stream",
          "name": "stdout",
          "text": [
            "[4, 16, 36, 196, 400]\n"
          ]
        }
      ]
    },
    {
      "cell_type": "code",
      "source": [
        "odd_squared_number = [number**2 for number in list_of_number if number%2!=0 else number**3]\n",
        "print(new_numbers)"
      ],
      "metadata": {
        "colab": {
          "base_uri": "https://localhost:8080/",
          "height": 109
        },
        "id": "B8lJllVPKzQs",
        "outputId": "5ab0ef85-5067-4c13-f2f3-d69cc4c9fcd7"
      },
      "execution_count": null,
      "outputs": [
        {
          "output_type": "error",
          "ename": "SyntaxError",
          "evalue": "invalid syntax (<ipython-input-6-c23f08491d93>, line 1)",
          "traceback": [
            "\u001b[0;36m  File \u001b[0;32m\"<ipython-input-6-c23f08491d93>\"\u001b[0;36m, line \u001b[0;32m1\u001b[0m\n\u001b[0;31m    odd_squared_number = [number**2 for number in list_of_number if number%2!=0 else number**3]\u001b[0m\n\u001b[0m                                                                                ^\u001b[0m\n\u001b[0;31mSyntaxError\u001b[0m\u001b[0;31m:\u001b[0m invalid syntax\n"
          ]
        }
      ]
    },
    {
      "cell_type": "code",
      "source": [
        "odd_squared_numbers = [number**2 if number%2!=0 else number**3 for number in list_of_numbers]\n",
        "print(odd_squared_numbers)"
      ],
      "metadata": {
        "colab": {
          "base_uri": "https://localhost:8080/"
        },
        "id": "BGXDcqBnOAJG",
        "outputId": "92cd11d4-d4ff-4d01-f707-22562794cbf4"
      },
      "execution_count": null,
      "outputs": [
        {
          "output_type": "stream",
          "name": "stdout",
          "text": [
            "[1, 8, 64, 216, 121, 2744, 289, 8000]\n"
          ]
        }
      ]
    },
    {
      "cell_type": "code",
      "source": [
        "list(range(4))"
      ],
      "metadata": {
        "id": "RWM1S-YxOAL1",
        "colab": {
          "base_uri": "https://localhost:8080/"
        },
        "outputId": "b5645285-0eb1-462f-c191-71bc791a2bd8"
      },
      "execution_count": null,
      "outputs": [
        {
          "output_type": "execute_result",
          "data": {
            "text/plain": [
              "[0, 1, 2, 3]"
            ]
          },
          "metadata": {},
          "execution_count": 3
        }
      ]
    },
    {
      "cell_type": "code",
      "source": [
        "list_of_numbers = []\n",
        "for num1 in range(4):\n",
        "  for num2 in range(3):\n",
        "    print(num1,num2)\n",
        "    list_of_numbers.append(num2)\n",
        "    print(list_of_numbers)"
      ],
      "metadata": {
        "id": "W5CSIr5VOAPE",
        "colab": {
          "base_uri": "https://localhost:8080/"
        },
        "outputId": "8f2d289e-eac7-4aed-a4f9-c9ae3c284906"
      },
      "execution_count": null,
      "outputs": [
        {
          "output_type": "stream",
          "name": "stdout",
          "text": [
            "0 0\n",
            "[0]\n",
            "0 1\n",
            "[0, 1]\n",
            "0 2\n",
            "[0, 1, 2]\n",
            "1 0\n",
            "[0, 1, 2, 0]\n",
            "1 1\n",
            "[0, 1, 2, 0, 1]\n",
            "1 2\n",
            "[0, 1, 2, 0, 1, 2]\n",
            "2 0\n",
            "[0, 1, 2, 0, 1, 2, 0]\n",
            "2 1\n",
            "[0, 1, 2, 0, 1, 2, 0, 1]\n",
            "2 2\n",
            "[0, 1, 2, 0, 1, 2, 0, 1, 2]\n",
            "3 0\n",
            "[0, 1, 2, 0, 1, 2, 0, 1, 2, 0]\n",
            "3 1\n",
            "[0, 1, 2, 0, 1, 2, 0, 1, 2, 0, 1]\n",
            "3 2\n",
            "[0, 1, 2, 0, 1, 2, 0, 1, 2, 0, 1, 2]\n"
          ]
        }
      ]
    },
    {
      "cell_type": "code",
      "source": [
        "list_of_numbers = [num2 for num1 in range(4) for num2 in range(4)]\n",
        "print(list_of_numbers)"
      ],
      "metadata": {
        "id": "dpKhQZgnOASM",
        "colab": {
          "base_uri": "https://localhost:8080/"
        },
        "outputId": "5ba17e55-cbd3-4236-bc03-093f92dd89ea"
      },
      "execution_count": null,
      "outputs": [
        {
          "output_type": "stream",
          "name": "stdout",
          "text": [
            "[0, 1, 2, 3, 0, 1, 2, 3, 0, 1, 2, 3, 0, 1, 2, 3]\n"
          ]
        }
      ]
    },
    {
      "cell_type": "code",
      "source": [
        "sample = [[]]\n",
        "len(sample)\n",
        "sample[0]"
      ],
      "metadata": {
        "id": "gG4iUN6FOAU-",
        "colab": {
          "base_uri": "https://localhost:8080/"
        },
        "outputId": "b60087fb-7230-4052-98d5-cc6ffa722a42"
      },
      "execution_count": null,
      "outputs": [
        {
          "output_type": "execute_result",
          "data": {
            "text/plain": [
              "[]"
            ]
          },
          "metadata": {},
          "execution_count": 7
        }
      ]
    },
    {
      "cell_type": "code",
      "source": [
        "list_of_lists = []\n",
        "for num1 in range(4):\n",
        "  list_of_lists.append([])\n",
        "for num2 in range(3):\n",
        "  list_of_lists[num1].append(num2)\n",
        "  print(list_of_lists)"
      ],
      "metadata": {
        "id": "0d-P8qAeOAXs",
        "colab": {
          "base_uri": "https://localhost:8080/"
        },
        "outputId": "780b19da-9bf2-437e-fa70-b3321dfc2fd8"
      },
      "execution_count": null,
      "outputs": [
        {
          "output_type": "stream",
          "name": "stdout",
          "text": [
            "[[], [], [], [0]]\n",
            "[[], [], [], [0, 1]]\n",
            "[[], [], [], [0, 1, 2]]\n"
          ]
        }
      ]
    },
    {
      "cell_type": "code",
      "source": [
        "list_of_lists = [[num2 for num2 in range(3)] for num1 in range(4)]\n",
        "print(list_of_lists)"
      ],
      "metadata": {
        "id": "wCFJlR8gOAdd",
        "colab": {
          "base_uri": "https://localhost:8080/"
        },
        "outputId": "65efc985-b50d-4842-f28d-3d8f90e90797"
      },
      "execution_count": null,
      "outputs": [
        {
          "output_type": "stream",
          "name": "stdout",
          "text": [
            "[[0, 1, 2], [0, 1, 2], [0, 1, 2], [0, 1, 2]]\n"
          ]
        }
      ]
    },
    {
      "cell_type": "code",
      "source": [
        "list_of_lists = [[num1 for num2 in range(3)] for num1 in range(4)]\n",
        "print(list_of_lists)"
      ],
      "metadata": {
        "colab": {
          "base_uri": "https://localhost:8080/"
        },
        "id": "l1vuCrV9DWn6",
        "outputId": "b04005dc-1d12-474c-c99f-ae249ac1dd87"
      },
      "execution_count": null,
      "outputs": [
        {
          "output_type": "stream",
          "name": "stdout",
          "text": [
            "[[0, 0, 0], [1, 1, 1], [2, 2, 2], [3, 3, 3]]\n"
          ]
        }
      ]
    },
    {
      "cell_type": "code",
      "source": [
        "heisenberg_quote = \"It ceases to exist without me. No,you clearly don't know who you're talking to, so let me clue you in. I am not in dang\"\n",
        "words_by_walter = heisenberg_quote.split(' ')\n",
        "print(words_by_walter)"
      ],
      "metadata": {
        "colab": {
          "base_uri": "https://localhost:8080/"
        },
        "id": "GPu5-SGgDWqz",
        "outputId": "d0de7b01-69fe-490a-8199-4a92ffd0b60e"
      },
      "execution_count": null,
      "outputs": [
        {
          "output_type": "stream",
          "name": "stdout",
          "text": [
            "['It', 'ceases', 'to', 'exist', 'without', 'me.', 'No,you', 'clearly', \"don't\", 'know', 'who', \"you're\", 'talking', 'to,', 'so', 'let', 'me', 'clue', 'you', 'in.', 'I', 'am', 'not', 'in', 'dang']\n"
          ]
        }
      ]
    },
    {
      "cell_type": "code",
      "source": [
        "heisenberg_quote.split('t')"
      ],
      "metadata": {
        "colab": {
          "base_uri": "https://localhost:8080/"
        },
        "id": "3DlHyVVDDWti",
        "outputId": "51a12772-226a-4ad0-ed54-bdd72507a8d5"
      },
      "execution_count": null,
      "outputs": [
        {
          "output_type": "execute_result",
          "data": {
            "text/plain": [
              "['I',\n",
              " ' ceases ',\n",
              " 'o exis',\n",
              " ' wi',\n",
              " 'hou',\n",
              " \" me. No,you clearly don'\",\n",
              " \" know who you're \",\n",
              " 'alking ',\n",
              " 'o, so le',\n",
              " ' me clue you in. I am no',\n",
              " ' in dang']"
            ]
          },
          "metadata": {},
          "execution_count": 18
        }
      ]
    },
    {
      "cell_type": "code",
      "source": [
        "first_letters = []\n",
        "for word in 'word_by_walter':\n",
        "  first_letters.append(word[0])\n",
        "print(first_letters)"
      ],
      "metadata": {
        "colab": {
          "base_uri": "https://localhost:8080/"
        },
        "id": "isS0wY-lDWwa",
        "outputId": "0869e6f1-0558-4a7c-c752-038bc15327fd"
      },
      "execution_count": null,
      "outputs": [
        {
          "output_type": "stream",
          "name": "stdout",
          "text": [
            "['w', 'o', 'r', 'd', '_', 'b', 'y', '_', 'w', 'a', 'l', 't', 'e', 'r']\n"
          ]
        }
      ]
    },
    {
      "cell_type": "code",
      "source": [
        "first_letters = [word[0] for word in  words_by_walter]\n",
        "print(first_letters)"
      ],
      "metadata": {
        "colab": {
          "base_uri": "https://localhost:8080/"
        },
        "id": "iFWMDgMLDWzN",
        "outputId": "3d8b420a-6d5e-40c7-fee4-0c307868f745"
      },
      "execution_count": null,
      "outputs": [
        {
          "output_type": "stream",
          "name": "stdout",
          "text": [
            "['I', 'c', 't', 'e', 'w', 'm', 'N', 'c', 'd', 'k', 'w', 'y', 't', 't', 's', 'l', 'm', 'c', 'y', 'i', 'I', 'a', 'n', 'i', 'd']\n"
          ]
        }
      ]
    },
    {
      "cell_type": "code",
      "source": [
        "heisenberg_quote.split(',')"
      ],
      "metadata": {
        "colab": {
          "base_uri": "https://localhost:8080/"
        },
        "id": "-QvXfDDmDW1q",
        "outputId": "19da3f8e-20a4-44a8-f9bf-00f42f97676a"
      },
      "execution_count": null,
      "outputs": [
        {
          "output_type": "execute_result",
          "data": {
            "text/plain": [
              "['It ceases to exist without me. No',\n",
              " \"you clearly don't know who you're talking to\",\n",
              " ' so let me clue you in. I am not in dang']"
            ]
          },
          "metadata": {},
          "execution_count": 30
        }
      ]
    },
    {
      "cell_type": "code",
      "source": [
        "my_string = 'Alphabet Inc.'\n",
        "list_of_characters = [char for char in my_string]\n",
        "print(list_of_characters)"
      ],
      "metadata": {
        "colab": {
          "base_uri": "https://localhost:8080/"
        },
        "id": "FSOJQtkwDW4M",
        "outputId": "2f0d097b-af51-4b65-eff8-d4a57356585b"
      },
      "execution_count": null,
      "outputs": [
        {
          "output_type": "stream",
          "name": "stdout",
          "text": [
            "['A', 'l', 'p', 'h', 'a', 'b', 'e', 't', ' ', 'I', 'n', 'c', '.']\n"
          ]
        }
      ]
    },
    {
      "cell_type": "code",
      "source": [
        "days = ('Monday','Tuesday','Wednesday','Thursday','Friday','Saturday','Sunday')\n",
        "tuple(day for day in days)"
      ],
      "metadata": {
        "colab": {
          "base_uri": "https://localhost:8080/"
        },
        "id": "a6zoyhadDW6R",
        "outputId": "c4214ac4-9f47-4519-e986-9b607140f3e6"
      },
      "execution_count": null,
      "outputs": [
        {
          "output_type": "execute_result",
          "data": {
            "text/plain": [
              "('Monday', 'Tuesday', 'Wednesday', 'Thursday', 'Friday', 'Saturday', 'Sunday')"
            ]
          },
          "metadata": {},
          "execution_count": 32
        }
      ]
    },
    {
      "cell_type": "code",
      "source": [
        "days_without_day = tuple([day[:-3] for day in days])\n",
        "print(days_without_day)"
      ],
      "metadata": {
        "colab": {
          "base_uri": "https://localhost:8080/"
        },
        "id": "X4V3klkqJ_mv",
        "outputId": "d146842a-ff95-426a-f09d-5a59f447a9bf"
      },
      "execution_count": null,
      "outputs": [
        {
          "output_type": "stream",
          "name": "stdout",
          "text": [
            "('Mon', 'Tues', 'Wednes', 'Thurs', 'Fri', 'Satur', 'Sun')\n"
          ]
        }
      ]
    },
    {
      "cell_type": "code",
      "source": [
        "first_letters = set()\n",
        "for word in words_by_walter:\n",
        "  first_letters.add(word[0])\n",
        "  print(first_letters)"
      ],
      "metadata": {
        "colab": {
          "base_uri": "https://localhost:8080/"
        },
        "id": "eaJUqvHDJ_pf",
        "outputId": "797d2135-dd68-4779-fe80-0e2b499385ed"
      },
      "execution_count": null,
      "outputs": [
        {
          "output_type": "stream",
          "name": "stdout",
          "text": [
            "{'I'}\n",
            "{'c', 'I'}\n",
            "{'c', 'I', 't'}\n",
            "{'c', 'I', 't', 'e'}\n",
            "{'c', 'w', 't', 'e', 'I'}\n",
            "{'c', 'm', 'w', 't', 'e', 'I'}\n",
            "{'c', 'm', 'w', 't', 'e', 'N', 'I'}\n",
            "{'c', 'm', 'w', 't', 'e', 'N', 'I'}\n",
            "{'c', 'm', 'w', 't', 'd', 'e', 'N', 'I'}\n",
            "{'c', 'm', 'w', 't', 'k', 'd', 'e', 'N', 'I'}\n",
            "{'c', 'm', 'w', 't', 'k', 'd', 'e', 'N', 'I'}\n",
            "{'c', 'm', 'w', 't', 'k', 'd', 'e', 'N', 'y', 'I'}\n",
            "{'c', 'm', 'w', 't', 'k', 'd', 'e', 'N', 'y', 'I'}\n",
            "{'c', 'm', 'w', 't', 'k', 'd', 'e', 'N', 'y', 'I'}\n",
            "{'c', 'm', 's', 'w', 't', 'k', 'd', 'e', 'N', 'y', 'I'}\n",
            "{'c', 'm', 's', 'w', 'l', 't', 'k', 'd', 'e', 'N', 'y', 'I'}\n",
            "{'c', 'm', 's', 'w', 'l', 't', 'k', 'd', 'e', 'N', 'y', 'I'}\n",
            "{'c', 'm', 's', 'w', 'l', 't', 'k', 'd', 'e', 'N', 'y', 'I'}\n",
            "{'c', 'm', 's', 'w', 'l', 't', 'k', 'd', 'e', 'N', 'y', 'I'}\n",
            "{'c', 'm', 's', 'w', 'l', 't', 'k', 'd', 'e', 'N', 'y', 'i', 'I'}\n",
            "{'c', 'm', 's', 'w', 'l', 't', 'k', 'd', 'e', 'N', 'y', 'i', 'I'}\n",
            "{'c', 'm', 's', 'w', 'a', 'l', 't', 'k', 'd', 'e', 'N', 'y', 'i', 'I'}\n",
            "{'c', 'm', 's', 'w', 'a', 'l', 't', 'k', 'd', 'e', 'N', 'n', 'y', 'i', 'I'}\n",
            "{'c', 'm', 's', 'w', 'a', 'l', 't', 'k', 'd', 'e', 'N', 'n', 'y', 'i', 'I'}\n",
            "{'c', 'm', 's', 'w', 'a', 'l', 't', 'k', 'd', 'e', 'N', 'n', 'y', 'i', 'I'}\n"
          ]
        }
      ]
    },
    {
      "cell_type": "code",
      "source": [
        "first_letters = {word[0] for word in words_by_walter}\n",
        "print(first_letters)"
      ],
      "metadata": {
        "colab": {
          "base_uri": "https://localhost:8080/"
        },
        "id": "KgVwl2HMK4gS",
        "outputId": "aed0a4f3-6d40-45a9-b311-e2a434f56650"
      },
      "execution_count": null,
      "outputs": [
        {
          "output_type": "stream",
          "name": "stdout",
          "text": [
            "{'c', 'm', 's', 'w', 'a', 'l', 't', 'k', 'd', 'e', 'N', 'n', 'y', 'i', 'I'}\n"
          ]
        }
      ]
    },
    {
      "cell_type": "code",
      "source": [
        "country_city_list = [('India','New Delhi',),('Australia','Canberra'),('United States','Washigton DC'),('England','London')]\n",
        "country_city_dict = dict(country_city_list)\n",
        "print(country_city_dict)"
      ],
      "metadata": {
        "colab": {
          "base_uri": "https://localhost:8080/"
        },
        "id": "vfmG1_mNK4lj",
        "outputId": "f9120c90-7d70-4786-ffb1-1269a78866c6"
      },
      "execution_count": null,
      "outputs": [
        {
          "output_type": "stream",
          "name": "stdout",
          "text": [
            "{'India': 'New Delhi', 'Australia': 'Canberra', 'United States': 'Washigton DC', 'England': 'London'}\n"
          ]
        }
      ]
    },
    {
      "cell_type": "code",
      "source": [
        "flipped = {}\n",
        "for country,city in country_city_dict.items():\n",
        "  flipped[city] = country\n",
        "  print(flipped)"
      ],
      "metadata": {
        "colab": {
          "base_uri": "https://localhost:8080/"
        },
        "id": "L5cTTfKCJ_sW",
        "outputId": "0c380f19-c804-4506-be46-6b69a5daa6a4"
      },
      "execution_count": null,
      "outputs": [
        {
          "output_type": "stream",
          "name": "stdout",
          "text": [
            "{'New Delhi': 'India'}\n",
            "{'New Delhi': 'India', 'Canberra': 'Australia'}\n",
            "{'New Delhi': 'India', 'Canberra': 'Australia', 'Washigton DC': 'United States'}\n",
            "{'New Delhi': 'India', 'Canberra': 'Australia', 'Washigton DC': 'United States', 'London': 'England'}\n"
          ]
        }
      ]
    },
    {
      "cell_type": "code",
      "source": [
        "flipped = {city:country for country, city in country_city_dict.items()}\n",
        "print(flipped)"
      ],
      "metadata": {
        "colab": {
          "base_uri": "https://localhost:8080/"
        },
        "id": "4r4nEKLHJ_vQ",
        "outputId": "9eca794b-a6ac-4b0b-b052-46eca70f568b"
      },
      "execution_count": null,
      "outputs": [
        {
          "output_type": "stream",
          "name": "stdout",
          "text": [
            "{'New Delhi': 'India', 'Canberra': 'Australia', 'Washigton DC': 'United States', 'London': 'England'}\n"
          ]
        }
      ]
    },
    {
      "cell_type": "code",
      "source": [
        "flipped = {city : country for country, city  in country_city_dict.items() if country[0] in ['E','A']}\n",
        "print(flipped)"
      ],
      "metadata": {
        "colab": {
          "base_uri": "https://localhost:8080/"
        },
        "id": "5cupriOqJ_x_",
        "outputId": "0058693a-e23e-456c-82c7-52212e968ccb"
      },
      "execution_count": null,
      "outputs": [
        {
          "output_type": "stream",
          "name": "stdout",
          "text": [
            "{'Canberra': 'Australia', 'London': 'England'}\n"
          ]
        }
      ]
    },
    {
      "cell_type": "code",
      "source": [
        "flipped = {country[:2] : city[-2:] for country,city in country_city_dict.items()}\n",
        "print(flipped)"
      ],
      "metadata": {
        "colab": {
          "base_uri": "https://localhost:8080/"
        },
        "id": "JPfC02mGJ_0l",
        "outputId": "67340fa2-e4b8-44dc-e8e7-84066894eb8c"
      },
      "execution_count": null,
      "outputs": [
        {
          "output_type": "stream",
          "name": "stdout",
          "text": [
            "{'In': 'hi', 'Au': 'ra', 'Un': 'DC', 'En': 'on'}\n"
          ]
        }
      ]
    },
    {
      "cell_type": "code",
      "source": [
        "print(country_city_dict)"
      ],
      "metadata": {
        "colab": {
          "base_uri": "https://localhost:8080/"
        },
        "id": "7ALUJf8tDXOj",
        "outputId": "d0af96db-436a-4054-8f0d-36cfb7882420"
      },
      "execution_count": null,
      "outputs": [
        {
          "output_type": "stream",
          "name": "stdout",
          "text": [
            "{'India': 'New Delhi', 'Australia': 'Canberra', 'United States': 'Washigton DC', 'England': 'London'}\n"
          ]
        }
      ]
    },
    {
      "cell_type": "code",
      "source": [],
      "metadata": {
        "id": "g94-cfGoOAmN"
      },
      "execution_count": null,
      "outputs": []
    },
    {
      "cell_type": "code",
      "source": [],
      "metadata": {
        "id": "JWh9N6JkOApm"
      },
      "execution_count": null,
      "outputs": []
    },
    {
      "cell_type": "code",
      "source": [],
      "metadata": {
        "id": "q0wz2OO3OA39"
      },
      "execution_count": null,
      "outputs": []
    }
  ]
}