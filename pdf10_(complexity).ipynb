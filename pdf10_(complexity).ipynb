{
  "nbformat": 4,
  "nbformat_minor": 0,
  "metadata": {
    "colab": {
      "provenance": [],
      "authorship_tag": "ABX9TyNE+6ABHx5E4KtE06LmdSSN",
      "include_colab_link": true
    },
    "kernelspec": {
      "name": "python3",
      "display_name": "Python 3"
    },
    "language_info": {
      "name": "python"
    }
  },
  "cells": [
    {
      "cell_type": "markdown",
      "metadata": {
        "id": "view-in-github",
        "colab_type": "text"
      },
      "source": [
        "<a href=\"https://colab.research.google.com/github/ANKITA4545/Assignment-1-data-science-/blob/main/pdf10_(complexity).ipynb\" target=\"_parent\"><img src=\"https://colab.research.google.com/assets/colab-badge.svg\" alt=\"Open In Colab\"/></a>"
      ]
    },
    {
      "cell_type": "code",
      "execution_count": 2,
      "metadata": {
        "id": "vMHi472ooJWH",
        "colab": {
          "base_uri": "https://localhost:8080/"
        },
        "outputId": "82832178-026d-45ce-94f3-9a9bcc4e98ab"
      },
      "outputs": [
        {
          "output_type": "stream",
          "name": "stdout",
          "text": [
            "1\n",
            "2\n",
            "3\n",
            "4\n",
            "5\n",
            "Match foung at index:  5\n"
          ]
        }
      ],
      "source": [
        "integer_to_match = 13\n",
        "list_to_search = [1,3,5,8,12,13,15,16,18,20,22,30,40,50,55,67]\n",
        "\n",
        "c=0\n",
        "for i in range(len(list_to_search)):\n",
        "    if integer_to_match==list_to_search[i]:\n",
        "      print(\"Match foung at index: \", i)\n",
        "      break\n",
        "    c+=1\n",
        "    print(c)"
      ]
    },
    {
      "cell_type": "code",
      "source": [
        "list_to_search.index(integer_to_match)"
      ],
      "metadata": {
        "id": "kJLuyIGboTdw",
        "colab": {
          "base_uri": "https://localhost:8080/"
        },
        "outputId": "12aeab1f-fc5c-41a7-f12a-ba02a350c524"
      },
      "execution_count": 3,
      "outputs": [
        {
          "output_type": "execute_result",
          "data": {
            "text/plain": [
              "5"
            ]
          },
          "metadata": {},
          "execution_count": 3
        }
      ]
    },
    {
      "cell_type": "code",
      "source": [
        "list_to_search.index(integer_to_match)"
      ],
      "metadata": {
        "id": "AeOlBg0xoTgd",
        "colab": {
          "base_uri": "https://localhost:8080/"
        },
        "outputId": "7c2d9195-1064-4c69-c7f0-c4c709bc9f9d"
      },
      "execution_count": 4,
      "outputs": [
        {
          "output_type": "execute_result",
          "data": {
            "text/plain": [
              "5"
            ]
          },
          "metadata": {},
          "execution_count": 4
        }
      ]
    },
    {
      "cell_type": "code",
      "source": [
        "from re import L\n",
        "list_to_search.sort()\n",
        "print(list_to_search)\n",
        "l=0\n",
        "r=len(list_to_search)-1\n",
        "c=0\n",
        "while l<r:\n",
        "  m=(l+r)//2\n",
        "  if list_to_search[m]==integer_to_match:\n",
        "    print(\"Match found at index: \", m)\n",
        "    break\n",
        "  elif list_to_search[m]<integer_to_match:\n",
        "    l=m+1\n",
        "  else:\n",
        "    r=m\n"
      ],
      "metadata": {
        "colab": {
          "base_uri": "https://localhost:8080/"
        },
        "id": "zSJZeZr1yTRw",
        "outputId": "a2a7de1e-a081-4119-b069-f2b19a34693e"
      },
      "execution_count": 5,
      "outputs": [
        {
          "output_type": "stream",
          "name": "stdout",
          "text": [
            "[1, 3, 5, 8, 12, 13, 15, 16, 18, 20, 22, 30, 40, 50, 55, 67]\n",
            "Match found at index:  5\n"
          ]
        }
      ]
    },
    {
      "cell_type": "code",
      "source": [
        "def binary_search(arr,low,high, x):\n",
        "  c=0\n",
        "  if high >= low:\n",
        "    mid = (high+low)//2\n",
        "    integer_to_match = 13\n",
        "    list_to_search = [1,3,5,8,12,13,15,16,18,20,22,30,40,50,55,67]\n",
        "    result = binary_search(list_to_search, 0, len(list_to_search)-1, integer_to_match)\n",
        "\n",
        "\n",
        "    print(\"Match found at index\", str(result))\n"
      ],
      "metadata": {
        "id": "Evqv99beyTTq"
      },
      "execution_count": 18,
      "outputs": []
    },
    {
      "cell_type": "code",
      "source": [
        "print(list_to_search[5]==integer_to_match)"
      ],
      "metadata": {
        "colab": {
          "base_uri": "https://localhost:8080/"
        },
        "id": "o9IR_PCkyTXD",
        "outputId": "c26cb364-ad4c-4e02-a36c-1d8df53bdd4c"
      },
      "execution_count": 19,
      "outputs": [
        {
          "output_type": "stream",
          "name": "stdout",
          "text": [
            "True\n"
          ]
        }
      ]
    },
    {
      "cell_type": "code",
      "source": [
        "list_to_sum = [1,2,3,4,5,6,7]\n",
        "\n",
        "sum = 0\n",
        "for i in range(len(list_to_sum)):\n",
        "  sum+=list_to_sum[i]\n",
        "print(sum)"
      ],
      "metadata": {
        "id": "O_p6pUeboTjI",
        "colab": {
          "base_uri": "https://localhost:8080/"
        },
        "outputId": "ff71d5c5-bfed-49de-e79b-c6431b59e786"
      },
      "execution_count": 20,
      "outputs": [
        {
          "output_type": "stream",
          "name": "stdout",
          "text": [
            "28\n"
          ]
        }
      ]
    },
    {
      "cell_type": "code",
      "source": [
        "sum = []\n",
        "c=0\n",
        "\n",
        "for i in range(len(list_to_sum)):\n",
        " if i==0:\n",
        "  sum.append(list_to_sum[i])\n",
        "\n",
        "else:\n",
        " sum.append(sum[-1] + list_to_sum[i])\n",
        "\n",
        "c+=1\n",
        "print(c)\n"
      ],
      "metadata": {
        "colab": {
          "base_uri": "https://localhost:8080/"
        },
        "id": "jsYGew5R3Scf",
        "outputId": "51773b0b-450e-457a-d1c1-7cf76dab7056"
      },
      "execution_count": 25,
      "outputs": [
        {
          "output_type": "stream",
          "name": "stdout",
          "text": [
            "1\n"
          ]
        }
      ]
    },
    {
      "cell_type": "code",
      "source": [
        "sum[-1]"
      ],
      "metadata": {
        "colab": {
          "base_uri": "https://localhost:8080/"
        },
        "id": "SMia3mkl3SfQ",
        "outputId": "26fe5f2c-7293-40e0-c7d7-096b4db82ba7"
      },
      "execution_count": 26,
      "outputs": [
        {
          "output_type": "execute_result",
          "data": {
            "text/plain": [
              "8"
            ]
          },
          "metadata": {},
          "execution_count": 26
        }
      ]
    },
    {
      "cell_type": "code",
      "source": [
        "A = [1,11,4,9,16,2,23,45,77,15]\n",
        "B = [51,29,82,32,67,5,2,22,78,98]\n",
        "areas = []\n",
        "c=0\n",
        "for a in A:\n",
        "  for b in B:\n",
        "    areas.append(a*b)\n",
        "    c+=1\n",
        "    print(c)\n",
        "areas.sort()\n",
        "print(areas)"
      ],
      "metadata": {
        "id": "CpouAYnZoTl8",
        "colab": {
          "base_uri": "https://localhost:8080/"
        },
        "outputId": "65e3dd63-f4bf-45e3-f99c-b515b8c48c0c"
      },
      "execution_count": 27,
      "outputs": [
        {
          "output_type": "stream",
          "name": "stdout",
          "text": [
            "1\n",
            "2\n",
            "3\n",
            "4\n",
            "5\n",
            "6\n",
            "7\n",
            "8\n",
            "9\n",
            "10\n",
            "11\n",
            "12\n",
            "13\n",
            "14\n",
            "15\n",
            "16\n",
            "17\n",
            "18\n",
            "19\n",
            "20\n",
            "21\n",
            "22\n",
            "23\n",
            "24\n",
            "25\n",
            "26\n",
            "27\n",
            "28\n",
            "29\n",
            "30\n",
            "31\n",
            "32\n",
            "33\n",
            "34\n",
            "35\n",
            "36\n",
            "37\n",
            "38\n",
            "39\n",
            "40\n",
            "41\n",
            "42\n",
            "43\n",
            "44\n",
            "45\n",
            "46\n",
            "47\n",
            "48\n",
            "49\n",
            "50\n",
            "51\n",
            "52\n",
            "53\n",
            "54\n",
            "55\n",
            "56\n",
            "57\n",
            "58\n",
            "59\n",
            "60\n",
            "61\n",
            "62\n",
            "63\n",
            "64\n",
            "65\n",
            "66\n",
            "67\n",
            "68\n",
            "69\n",
            "70\n",
            "71\n",
            "72\n",
            "73\n",
            "74\n",
            "75\n",
            "76\n",
            "77\n",
            "78\n",
            "79\n",
            "80\n",
            "81\n",
            "82\n",
            "83\n",
            "84\n",
            "85\n",
            "86\n",
            "87\n",
            "88\n",
            "89\n",
            "90\n",
            "91\n",
            "92\n",
            "93\n",
            "94\n",
            "95\n",
            "96\n",
            "97\n",
            "98\n",
            "99\n",
            "100\n",
            "[2, 4, 5, 8, 10, 18, 20, 22, 22, 29, 30, 32, 32, 44, 45, 46, 51, 55, 58, 64, 67, 75, 78, 80, 82, 88, 90, 98, 102, 115, 116, 128, 134, 154, 156, 164, 196, 198, 204, 225, 242, 261, 268, 288, 312, 319, 328, 330, 352, 352, 385, 392, 435, 459, 464, 480, 506, 512, 561, 603, 667, 702, 736, 737, 738, 765, 816, 858, 882, 902, 990, 1005, 1072, 1078, 1170, 1173, 1230, 1248, 1305, 1312, 1440, 1470, 1541, 1568, 1694, 1794, 1886, 2233, 2254, 2295, 2464, 3015, 3510, 3690, 3927, 4410, 5159, 6006, 6314, 7546]\n"
          ]
        }
      ]
    },
    {
      "cell_type": "code",
      "source": [
        "max_area = 0\n",
        "for area in areas:\n",
        "  if area>max_area:\n",
        "    max_area = area\n",
        "print(max_area)"
      ],
      "metadata": {
        "colab": {
          "base_uri": "https://localhost:8080/"
        },
        "id": "mGn59nwu5z6R",
        "outputId": "8ddeebd8-1538-4307-bc20-0f09d2509711"
      },
      "execution_count": 28,
      "outputs": [
        {
          "output_type": "stream",
          "name": "stdout",
          "text": [
            "7546\n"
          ]
        }
      ]
    },
    {
      "cell_type": "code",
      "source": [
        "len(areas)"
      ],
      "metadata": {
        "colab": {
          "base_uri": "https://localhost:8080/"
        },
        "id": "yhTlEvNC5z89",
        "outputId": "fcf5d6d7-e547-4270-9718-87347997e4fc"
      },
      "execution_count": 29,
      "outputs": [
        {
          "output_type": "execute_result",
          "data": {
            "text/plain": [
              "100"
            ]
          },
          "metadata": {},
          "execution_count": 29
        }
      ]
    },
    {
      "cell_type": "code",
      "source": [
        "max_area"
      ],
      "metadata": {
        "colab": {
          "base_uri": "https://localhost:8080/"
        },
        "id": "tGm7SuO_5z_t",
        "outputId": "d8665b06-5140-4718-e426-ce8916b69457"
      },
      "execution_count": 30,
      "outputs": [
        {
          "output_type": "execute_result",
          "data": {
            "text/plain": [
              "7546"
            ]
          },
          "metadata": {},
          "execution_count": 30
        }
      ]
    },
    {
      "cell_type": "code",
      "source": [
        "from sre_compile import AT_END\n",
        "A = [1,11,4,9,16,2,23,45,77,15]\n",
        "B = [51,29,82,32,67,5,2,22,78,98]\n",
        "e=0\n",
        "max_a = 0\n",
        "for a in A:\n",
        " if a>max_a:\n",
        "    max_a=a\n",
        "    e+=1\n",
        " max_b = 0\n",
        "for b in B:\n",
        "    if b>max_b:\n",
        "      max_b=b\n",
        "    e+=1\n",
        "\n",
        "    print(e)"
      ],
      "metadata": {
        "colab": {
          "base_uri": "https://localhost:8080/"
        },
        "id": "7WONUmCu50Cc",
        "outputId": "cff65638-df0e-4ccc-d383-5c08cd224237"
      },
      "execution_count": 38,
      "outputs": [
        {
          "output_type": "stream",
          "name": "stdout",
          "text": [
            "7\n",
            "8\n",
            "9\n",
            "10\n",
            "11\n",
            "12\n",
            "13\n",
            "14\n",
            "15\n",
            "16\n"
          ]
        }
      ]
    },
    {
      "cell_type": "code",
      "source": [
        "max_a * max_b"
      ],
      "metadata": {
        "colab": {
          "base_uri": "https://localhost:8080/"
        },
        "id": "v-12H3Pm50F3",
        "outputId": "98060355-d5a5-4359-9d3f-d57f5519e3ee"
      },
      "execution_count": 39,
      "outputs": [
        {
          "output_type": "execute_result",
          "data": {
            "text/plain": [
              "7546"
            ]
          },
          "metadata": {},
          "execution_count": 39
        }
      ]
    },
    {
      "cell_type": "code",
      "source": [],
      "metadata": {
        "id": "_rG7rsfdoToq"
      },
      "execution_count": null,
      "outputs": []
    },
    {
      "cell_type": "code",
      "source": [],
      "metadata": {
        "id": "JWKpZCMBoTrQ"
      },
      "execution_count": null,
      "outputs": []
    },
    {
      "cell_type": "code",
      "source": [],
      "metadata": {
        "id": "EfVzwd84oTuw"
      },
      "execution_count": null,
      "outputs": []
    }
  ]
}