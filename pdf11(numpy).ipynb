{
  "nbformat": 4,
  "nbformat_minor": 0,
  "metadata": {
    "colab": {
      "provenance": [],
      "authorship_tag": "ABX9TyOCLEZxPxSAkx4ozvLWpnSd",
      "include_colab_link": true
    },
    "kernelspec": {
      "name": "python3",
      "display_name": "Python 3"
    },
    "language_info": {
      "name": "python"
    }
  },
  "cells": [
    {
      "cell_type": "markdown",
      "metadata": {
        "id": "view-in-github",
        "colab_type": "text"
      },
      "source": [
        "<a href=\"https://colab.research.google.com/github/ANKITA4545/Assignment-1-data-science-/blob/main/pdf11(numpy).ipynb\" target=\"_parent\"><img src=\"https://colab.research.google.com/assets/colab-badge.svg\" alt=\"Open In Colab\"/></a>"
      ]
    },
    {
      "cell_type": "code",
      "execution_count": null,
      "metadata": {
        "id": "ygn_q3xq8o-T"
      },
      "outputs": [],
      "source": []
    },
    {
      "cell_type": "code",
      "source": [],
      "metadata": {
        "id": "mbyX8Jpm8wJa"
      },
      "execution_count": null,
      "outputs": []
    },
    {
      "cell_type": "code",
      "source": [
        "!pip install xgboost"
      ],
      "metadata": {
        "colab": {
          "base_uri": "https://localhost:8080/"
        },
        "id": "_70dxpBi8wMW",
        "outputId": "41a08868-637e-417d-b724-34a5e8ccdc83"
      },
      "execution_count": 1,
      "outputs": [
        {
          "output_type": "stream",
          "name": "stdout",
          "text": [
            "Requirement already satisfied: xgboost in /usr/local/lib/python3.11/dist-packages (2.1.4)\n",
            "Requirement already satisfied: numpy in /usr/local/lib/python3.11/dist-packages (from xgboost) (1.26.4)\n",
            "Requirement already satisfied: nvidia-nccl-cu12 in /usr/local/lib/python3.11/dist-packages (from xgboost) (2.21.5)\n",
            "Requirement already satisfied: scipy in /usr/local/lib/python3.11/dist-packages (from xgboost) (1.13.1)\n"
          ]
        }
      ]
    },
    {
      "cell_type": "code",
      "source": [
        "import numpy as np\n",
        "my_array = np.array([1,2,3,4,5,6,7])\n",
        "type(my_array)"
      ],
      "metadata": {
        "colab": {
          "base_uri": "https://localhost:8080/"
        },
        "id": "yhfha2Xr8wUo",
        "outputId": "b7ae465a-a67e-4187-fa24-3f7713737c97"
      },
      "execution_count": 3,
      "outputs": [
        {
          "output_type": "execute_result",
          "data": {
            "text/plain": [
              "numpy.ndarray"
            ]
          },
          "metadata": {},
          "execution_count": 3
        }
      ]
    },
    {
      "cell_type": "code",
      "source": [
        "my_array.shape"
      ],
      "metadata": {
        "colab": {
          "base_uri": "https://localhost:8080/"
        },
        "id": "HIraezDI8wXc",
        "outputId": "436c268f-e2ee-476d-e39a-d0c54075a14d"
      },
      "execution_count": 4,
      "outputs": [
        {
          "output_type": "execute_result",
          "data": {
            "text/plain": [
              "(7,)"
            ]
          },
          "metadata": {},
          "execution_count": 4
        }
      ]
    },
    {
      "cell_type": "code",
      "source": [
        "my_array.size"
      ],
      "metadata": {
        "colab": {
          "base_uri": "https://localhost:8080/"
        },
        "id": "0g6XXDEy8waX",
        "outputId": "0dc51146-04cd-4159-c219-2c029ea96392"
      },
      "execution_count": 5,
      "outputs": [
        {
          "output_type": "execute_result",
          "data": {
            "text/plain": [
              "7"
            ]
          },
          "metadata": {},
          "execution_count": 5
        }
      ]
    },
    {
      "cell_type": "code",
      "source": [
        "import sklearn as skl\n",
        "\n",
        "import sklearn.datasets as data\n",
        "\n",
        "data"
      ],
      "metadata": {
        "colab": {
          "base_uri": "https://localhost:8080/"
        },
        "id": "trVBLmdQ-ynV",
        "outputId": "bc7a8d1b-21d7-4034-d413-1139256768e0"
      },
      "execution_count": 9,
      "outputs": [
        {
          "output_type": "execute_result",
          "data": {
            "text/plain": [
              "<module 'sklearn.datasets' from '/usr/local/lib/python3.11/dist-packages/sklearn/datasets/__init__.py'>"
            ]
          },
          "metadata": {},
          "execution_count": 9
        }
      ]
    },
    {
      "cell_type": "code",
      "source": [
        "data.load_wine()"
      ],
      "metadata": {
        "colab": {
          "base_uri": "https://localhost:8080/"
        },
        "id": "4Q20Ax8W-yqB",
        "outputId": "317fc407-af70-4d3e-ea51-221e0e4c3483"
      },
      "execution_count": 10,
      "outputs": [
        {
          "output_type": "execute_result",
          "data": {
            "text/plain": [
              "{'data': array([[1.423e+01, 1.710e+00, 2.430e+00, ..., 1.040e+00, 3.920e+00,\n",
              "         1.065e+03],\n",
              "        [1.320e+01, 1.780e+00, 2.140e+00, ..., 1.050e+00, 3.400e+00,\n",
              "         1.050e+03],\n",
              "        [1.316e+01, 2.360e+00, 2.670e+00, ..., 1.030e+00, 3.170e+00,\n",
              "         1.185e+03],\n",
              "        ...,\n",
              "        [1.327e+01, 4.280e+00, 2.260e+00, ..., 5.900e-01, 1.560e+00,\n",
              "         8.350e+02],\n",
              "        [1.317e+01, 2.590e+00, 2.370e+00, ..., 6.000e-01, 1.620e+00,\n",
              "         8.400e+02],\n",
              "        [1.413e+01, 4.100e+00, 2.740e+00, ..., 6.100e-01, 1.600e+00,\n",
              "         5.600e+02]]),\n",
              " 'target': array([0, 0, 0, 0, 0, 0, 0, 0, 0, 0, 0, 0, 0, 0, 0, 0, 0, 0, 0, 0, 0, 0,\n",
              "        0, 0, 0, 0, 0, 0, 0, 0, 0, 0, 0, 0, 0, 0, 0, 0, 0, 0, 0, 0, 0, 0,\n",
              "        0, 0, 0, 0, 0, 0, 0, 0, 0, 0, 0, 0, 0, 0, 0, 1, 1, 1, 1, 1, 1, 1,\n",
              "        1, 1, 1, 1, 1, 1, 1, 1, 1, 1, 1, 1, 1, 1, 1, 1, 1, 1, 1, 1, 1, 1,\n",
              "        1, 1, 1, 1, 1, 1, 1, 1, 1, 1, 1, 1, 1, 1, 1, 1, 1, 1, 1, 1, 1, 1,\n",
              "        1, 1, 1, 1, 1, 1, 1, 1, 1, 1, 1, 1, 1, 1, 1, 1, 1, 1, 1, 1, 2, 2,\n",
              "        2, 2, 2, 2, 2, 2, 2, 2, 2, 2, 2, 2, 2, 2, 2, 2, 2, 2, 2, 2, 2, 2,\n",
              "        2, 2, 2, 2, 2, 2, 2, 2, 2, 2, 2, 2, 2, 2, 2, 2, 2, 2, 2, 2, 2, 2,\n",
              "        2, 2]),\n",
              " 'frame': None,\n",
              " 'target_names': array(['class_0', 'class_1', 'class_2'], dtype='<U7'),\n",
              " 'DESCR': '.. _wine_dataset:\\n\\nWine recognition dataset\\n------------------------\\n\\n**Data Set Characteristics:**\\n\\n:Number of Instances: 178\\n:Number of Attributes: 13 numeric, predictive attributes and the class\\n:Attribute Information:\\n    - Alcohol\\n    - Malic acid\\n    - Ash\\n    - Alcalinity of ash\\n    - Magnesium\\n    - Total phenols\\n    - Flavanoids\\n    - Nonflavanoid phenols\\n    - Proanthocyanins\\n    - Color intensity\\n    - Hue\\n    - OD280/OD315 of diluted wines\\n    - Proline\\n    - class:\\n        - class_0\\n        - class_1\\n        - class_2\\n\\n:Summary Statistics:\\n\\n============================= ==== ===== ======= =====\\n                                Min   Max   Mean     SD\\n============================= ==== ===== ======= =====\\nAlcohol:                      11.0  14.8    13.0   0.8\\nMalic Acid:                   0.74  5.80    2.34  1.12\\nAsh:                          1.36  3.23    2.36  0.27\\nAlcalinity of Ash:            10.6  30.0    19.5   3.3\\nMagnesium:                    70.0 162.0    99.7  14.3\\nTotal Phenols:                0.98  3.88    2.29  0.63\\nFlavanoids:                   0.34  5.08    2.03  1.00\\nNonflavanoid Phenols:         0.13  0.66    0.36  0.12\\nProanthocyanins:              0.41  3.58    1.59  0.57\\nColour Intensity:              1.3  13.0     5.1   2.3\\nHue:                          0.48  1.71    0.96  0.23\\nOD280/OD315 of diluted wines: 1.27  4.00    2.61  0.71\\nProline:                       278  1680     746   315\\n============================= ==== ===== ======= =====\\n\\n:Missing Attribute Values: None\\n:Class Distribution: class_0 (59), class_1 (71), class_2 (48)\\n:Creator: R.A. Fisher\\n:Donor: Michael Marshall (MARSHALL%PLU@io.arc.nasa.gov)\\n:Date: July, 1988\\n\\nThis is a copy of UCI ML Wine recognition datasets.\\nhttps://archive.ics.uci.edu/ml/machine-learning-databases/wine/wine.data\\n\\nThe data is the results of a chemical analysis of wines grown in the same\\nregion in Italy by three different cultivators. There are thirteen different\\nmeasurements taken for different constituents found in the three types of\\nwine.\\n\\nOriginal Owners:\\n\\nForina, M. et al, PARVUS -\\nAn Extendible Package for Data Exploration, Classification and Correlation.\\nInstitute of Pharmaceutical and Food Analysis and Technologies,\\nVia Brigata Salerno, 16147 Genoa, Italy.\\n\\nCitation:\\n\\nLichman, M. (2013). UCI Machine Learning Repository\\n[https://archive.ics.uci.edu/ml]. Irvine, CA: University of California,\\nSchool of Information and Computer Science.\\n\\n.. dropdown:: References\\n\\n    (1) S. Aeberhard, D. Coomans and O. de Vel,\\n    Comparison of Classifiers in High Dimensional Settings,\\n    Tech. Rep. no. 92-02, (1992), Dept. of Computer Science and Dept. of\\n    Mathematics and Statistics, James Cook University of North Queensland.\\n    (Also submitted to Technometrics).\\n\\n    The data was used with many others for comparing various\\n    classifiers. The classes are separable, though only RDA\\n    has achieved 100% correct classification.\\n    (RDA : 100%, QDA 99.4%, LDA 98.9%, 1NN 96.1% (z-transformed data))\\n    (All results using the leave-one-out technique)\\n\\n    (2) S. Aeberhard, D. Coomans and O. de Vel,\\n    \"THE CLASSIFICATION PERFORMANCE OF RDA\"\\n    Tech. Rep. no. 92-01, (1992), Dept. of Computer Science and Dept. of\\n    Mathematics and Statistics, James Cook University of North Queensland.\\n    (Also submitted to Journal of Chemometrics).\\n',\n",
              " 'feature_names': ['alcohol',\n",
              "  'malic_acid',\n",
              "  'ash',\n",
              "  'alcalinity_of_ash',\n",
              "  'magnesium',\n",
              "  'total_phenols',\n",
              "  'flavanoids',\n",
              "  'nonflavanoid_phenols',\n",
              "  'proanthocyanins',\n",
              "  'color_intensity',\n",
              "  'hue',\n",
              "  'od280/od315_of_diluted_wines',\n",
              "  'proline']}"
            ]
          },
          "metadata": {},
          "execution_count": 10
        }
      ]
    },
    {
      "cell_type": "code",
      "source": [
        "oned_array = np.array([range(0,10)])\n",
        "oned_array"
      ],
      "metadata": {
        "colab": {
          "base_uri": "https://localhost:8080/"
        },
        "id": "7IXG-nG--ysz",
        "outputId": "d58cc04d-a02d-4d47-c69e-9469bdf29689"
      },
      "execution_count": 11,
      "outputs": [
        {
          "output_type": "execute_result",
          "data": {
            "text/plain": [
              "array([[0, 1, 2, 3, 4, 5, 6, 7, 8, 9]])"
            ]
          },
          "metadata": {},
          "execution_count": 11
        }
      ]
    },
    {
      "cell_type": "code",
      "source": [
        "another_array = np.array([[1,2,3],[4,5,6]])\n",
        "another_array[1][0]"
      ],
      "metadata": {
        "colab": {
          "base_uri": "https://localhost:8080/"
        },
        "id": "dtKvvEBD-yvj",
        "outputId": "ab480b74-09cf-4728-83bd-0b59f720c710"
      },
      "execution_count": 14,
      "outputs": [
        {
          "output_type": "execute_result",
          "data": {
            "text/plain": [
              "4"
            ]
          },
          "metadata": {},
          "execution_count": 14
        }
      ]
    },
    {
      "cell_type": "code",
      "source": [
        "another_array[1]"
      ],
      "metadata": {
        "colab": {
          "base_uri": "https://localhost:8080/"
        },
        "id": "Rs8fqOaE-yy6",
        "outputId": "2c3fee60-b867-4180-8fcb-6b664ca85937"
      },
      "execution_count": 15,
      "outputs": [
        {
          "output_type": "execute_result",
          "data": {
            "text/plain": [
              "array([4, 5, 6])"
            ]
          },
          "metadata": {},
          "execution_count": 15
        }
      ]
    },
    {
      "cell_type": "code",
      "source": [
        "another_array.shape"
      ],
      "metadata": {
        "colab": {
          "base_uri": "https://localhost:8080/"
        },
        "id": "oGX9RAKbDYBH",
        "outputId": "b0596b7c-1c8b-457e-82f5-6c4269310523"
      },
      "execution_count": 16,
      "outputs": [
        {
          "output_type": "execute_result",
          "data": {
            "text/plain": [
              "(2, 3)"
            ]
          },
          "metadata": {},
          "execution_count": 16
        }
      ]
    },
    {
      "cell_type": "code",
      "source": [
        "another_array[1:,1:]"
      ],
      "metadata": {
        "colab": {
          "base_uri": "https://localhost:8080/"
        },
        "id": "DLEH7ETbDYD6",
        "outputId": "56411c26-b9dc-4bc1-a2c0-be8ca72bfc3a"
      },
      "execution_count": 18,
      "outputs": [
        {
          "output_type": "execute_result",
          "data": {
            "text/plain": [
              "array([[5, 6]])"
            ]
          },
          "metadata": {},
          "execution_count": 18
        }
      ]
    },
    {
      "cell_type": "code",
      "source": [
        "twod_array = np.array([[1,2,3],[4,5,6]])\n",
        "twod_array.shape"
      ],
      "metadata": {
        "colab": {
          "base_uri": "https://localhost:8080/"
        },
        "id": "Qugi9FX2DYGn",
        "outputId": "60424b72-bc7c-4460-f05f-01774cee3d77"
      },
      "execution_count": 19,
      "outputs": [
        {
          "output_type": "execute_result",
          "data": {
            "text/plain": [
              "(2, 3)"
            ]
          },
          "metadata": {},
          "execution_count": 19
        }
      ]
    },
    {
      "cell_type": "code",
      "source": [
        "import numpy as np\n",
        "import matplotlib.pyplot as plt\n",
        "\n",
        "height = 100\n",
        "width = 100\n",
        "\n",
        "random_image = np.random.randint(0,255,size=(height,width,3))\n",
        "print(\"Matrix representing the random colored image:\")\n",
        "print(random_image)\n",
        "\n",
        "plt.imshow(random_image)\n",
        "plt.title(\"Random colored image\")\n",
        "plt.show()"
      ],
      "metadata": {
        "colab": {
          "base_uri": "https://localhost:8080/",
          "height": 1000
        },
        "id": "hFX5zooaDYKA",
        "outputId": "03b2abf5-3613-4cfc-ba42-2f309ce6d30d"
      },
      "execution_count": 20,
      "outputs": [
        {
          "output_type": "stream",
          "name": "stdout",
          "text": [
            "Matrix representing the random colored image:\n",
            "[[[  7  92 244]\n",
            "  [ 99 161  62]\n",
            "  [ 64 151 169]\n",
            "  ...\n",
            "  [243   6  54]\n",
            "  [239   8  59]\n",
            "  [174  73 181]]\n",
            "\n",
            " [[148 242 239]\n",
            "  [250  51  89]\n",
            "  [223  68 223]\n",
            "  ...\n",
            "  [ 97 194  46]\n",
            "  [ 79  52  59]\n",
            "  [ 62 189 232]]\n",
            "\n",
            " [[ 82 136 220]\n",
            "  [ 91 116 180]\n",
            "  [ 86 168  62]\n",
            "  ...\n",
            "  [241  37  46]\n",
            "  [136 116  29]\n",
            "  [205 103 182]]\n",
            "\n",
            " ...\n",
            "\n",
            " [[164 167  91]\n",
            "  [147  12 217]\n",
            "  [238  52 173]\n",
            "  ...\n",
            "  [192  94 131]\n",
            "  [221 233  43]\n",
            "  [191  17  30]]\n",
            "\n",
            " [[ 28  23 169]\n",
            "  [ 59 180  52]\n",
            "  [152 219 122]\n",
            "  ...\n",
            "  [ 88 144  31]\n",
            "  [199 199 154]\n",
            "  [163 187  52]]\n",
            "\n",
            " [[168 108 138]\n",
            "  [ 47  19 103]\n",
            "  [246  71 196]\n",
            "  ...\n",
            "  [142  91 116]\n",
            "  [ 68 201 240]\n",
            "  [192 244 205]]]\n"
          ]
        },
        {
          "output_type": "display_data",
          "data": {
            "text/plain": [
              "<Figure size 640x480 with 1 Axes>"
            ],
            "image/png": "[encoded data removed]"
          },
          "metadata": {}
        }
      ]
    },
    {
      "cell_type": "code",
      "source": [
        "plt.imshow(random_image[:2,:2,:3])"
      ],
      "metadata": {
        "colab": {
          "base_uri": "https://localhost:8080/",
          "height": 452
        },
        "id": "A6oLUX3t-zAn",
        "outputId": "a5457ffe-fc79-4b4d-da37-c962074d6de0"
      },
      "execution_count": 21,
      "outputs": [
        {
          "output_type": "execute_result",
          "data": {
            "text/plain": [
              "<matplotlib.image.AxesImage at 0x7b81f02f3650>"
            ]
          },
          "metadata": {},
          "execution_count": 21
        },
        {
          "output_type": "display_data",
          "data": {
            "text/plain": [
              "<Figure size 640x480 with 1 Axes>"
            ],
            "image/png": "[encoded data removed]"
          },
          "metadata": {}
        }
      ]
    },
    {
      "cell_type": "code",
      "source": [
        "three_d_array = np.array([[[1,2,3],[4,5,6]],[[7,8,9],[10,11,12]]])\n",
        "three_d_array"
      ],
      "metadata": {
        "colab": {
          "base_uri": "https://localhost:8080/"
        },
        "id": "hSyyTKl4Emui",
        "outputId": "c93026b8-f80a-4b47-d57b-5c39392769dc"
      },
      "execution_count": 24,
      "outputs": [
        {
          "output_type": "execute_result",
          "data": {
            "text/plain": [
              "array([[[ 1,  2,  3],\n",
              "        [ 4,  5,  6]],\n",
              "\n",
              "       [[ 7,  8,  9],\n",
              "        [10, 11, 12]]])"
            ]
          },
          "metadata": {},
          "execution_count": 24
        }
      ]
    },
    {
      "cell_type": "code",
      "source": [
        "matrix = np.array([[1,2,3],[4,5,6]])\n",
        "matrix"
      ],
      "metadata": {
        "colab": {
          "base_uri": "https://localhost:8080/"
        },
        "id": "3Df09V3nFfEm",
        "outputId": "d9c03389-722f-4b9c-b361-5b0f9b218c56"
      },
      "execution_count": 27,
      "outputs": [
        {
          "output_type": "execute_result",
          "data": {
            "text/plain": [
              "array([[1, 2, 3],\n",
              "       [4, 5, 6]])"
            ]
          },
          "metadata": {},
          "execution_count": 27
        }
      ]
    },
    {
      "cell_type": "code",
      "source": [
        "plt.imshow(matrix[:,])\n",
        "plt.axis('off')\n",
        "plt.show()"
      ],
      "metadata": {
        "colab": {
          "base_uri": "https://localhost:8080/",
          "height": 367
        },
        "id": "2bO7Ilw7EmxN",
        "outputId": "4bc27e23-9c09-49e8-f89a-494fa6717b01"
      },
      "execution_count": 28,
      "outputs": [
        {
          "output_type": "display_data",
          "data": {
            "text/plain": [
              "<Figure size 640x480 with 1 Axes>"
            ],
            "image/png": "[encoded data removed]"
          },
          "metadata": {}
        }
      ]
    },
    {
      "cell_type": "code",
      "source": [
        "matrix.shape"
      ],
      "metadata": {
        "colab": {
          "base_uri": "https://localhost:8080/"
        },
        "id": "hYKU7Ky6Emz4",
        "outputId": "0f8df038-9a45-4d48-9d57-4b04de549032"
      },
      "execution_count": 30,
      "outputs": [
        {
          "output_type": "execute_result",
          "data": {
            "text/plain": [
              "(2, 3)"
            ]
          },
          "metadata": {},
          "execution_count": 30
        }
      ]
    },
    {
      "cell_type": "code",
      "source": [
        "matrix"
      ],
      "metadata": {
        "colab": {
          "base_uri": "https://localhost:8080/"
        },
        "id": "Jz2vB2qGEm3X",
        "outputId": "17976678-9fa0-423b-dd63-d152699c0c98"
      },
      "execution_count": 31,
      "outputs": [
        {
          "output_type": "execute_result",
          "data": {
            "text/plain": [
              "array([[1, 2, 3],\n",
              "       [4, 5, 6]])"
            ]
          },
          "metadata": {},
          "execution_count": 31
        }
      ]
    },
    {
      "cell_type": "code",
      "source": [
        "import numpy as np\n",
        "import matplotlib.pyplot as plt\n",
        "\n",
        "height = 100\n",
        "width = 100\n",
        "\n",
        "random_image = np.random.randint(0,255,size=(height,width,3))\n",
        "print(\"Matrix representing the random colored image:\")\n",
        "print(random_image)"
      ],
      "metadata": {
        "colab": {
          "base_uri": "https://localhost:8080/"
        },
        "id": "3mmLx6I7FsSH",
        "outputId": "2de06921-d21b-47ef-a655-ec8898877d7a"
      },
      "execution_count": 32,
      "outputs": [
        {
          "output_type": "stream",
          "name": "stdout",
          "text": [
            "Matrix representing the random colored image:\n",
            "[[[ 61  20 121]\n",
            "  [  3  33  33]\n",
            "  [100 252  57]\n",
            "  ...\n",
            "  [148  69  84]\n",
            "  [154  70  81]\n",
            "  [122 211 165]]\n",
            "\n",
            " [[ 15 215  67]\n",
            "  [133 254 128]\n",
            "  [  0 176 166]\n",
            "  ...\n",
            "  [ 12 173 201]\n",
            "  [189  71  99]\n",
            "  [ 24  67 100]]\n",
            "\n",
            " [[179 165 163]\n",
            "  [155 225  38]\n",
            "  [150   9  18]\n",
            "  ...\n",
            "  [235 190 215]\n",
            "  [204 183  67]\n",
            "  [244  68 117]]\n",
            "\n",
            " ...\n",
            "\n",
            " [[ 22 103  37]\n",
            "  [ 48 203  96]\n",
            "  [193  68 245]\n",
            "  ...\n",
            "  [111   2 160]\n",
            "  [247 196 188]\n",
            "  [  7 151 248]]\n",
            "\n",
            " [[195 196  86]\n",
            "  [ 67 217 212]\n",
            "  [118 150 217]\n",
            "  ...\n",
            "  [168  40 148]\n",
            "  [ 85 199 252]\n",
            "  [229 170 250]]\n",
            "\n",
            " [[228  19 157]\n",
            "  [110  27 145]\n",
            "  [172  80 177]\n",
            "  ...\n",
            "  [  0 175 217]\n",
            "  [ 73  68 108]\n",
            "  [169 137  31]]]\n"
          ]
        }
      ]
    },
    {
      "cell_type": "code",
      "source": [
        "import numpy as np\n",
        "import matplotlib.pyplot as plt\n",
        "\n",
        "width = 5\n",
        "height = 5\n",
        "\n",
        "matrix = np.random.randint(250,255,size=(height,width,))\n",
        "plt.imshow(matrix[:,])\n",
        "plt.axis('off')\n",
        "plt.show()\n"
      ],
      "metadata": {
        "colab": {
          "base_uri": "https://localhost:8080/",
          "height": 406
        },
        "id": "J9SyIO8JFsVN",
        "outputId": "1b40b68d-916d-40b0-c3e0-f7b17a5e4db2"
      },
      "execution_count": 34,
      "outputs": [
        {
          "output_type": "display_data",
          "data": {
            "text/plain": [
              "<Figure size 640x480 with 1 Axes>"
            ],
            "image/png": "[encoded data removed]"
          },
          "metadata": {}
        }
      ]
    },
    {
      "cell_type": "code",
      "source": [
        "matrix"
      ],
      "metadata": {
        "colab": {
          "base_uri": "https://localhost:8080/"
        },
        "id": "stE9UJSxFsYo",
        "outputId": "b7466aa4-77f9-442e-ddcd-be1902fa67fe"
      },
      "execution_count": 35,
      "outputs": [
        {
          "output_type": "execute_result",
          "data": {
            "text/plain": [
              "array([[253, 252, 251, 250, 251],\n",
              "       [253, 254, 251, 251, 254],\n",
              "       [252, 253, 252, 251, 252],\n",
              "       [252, 253, 252, 252, 252],\n",
              "       [252, 250, 250, 252, 253]])"
            ]
          },
          "metadata": {},
          "execution_count": 35
        }
      ]
    },
    {
      "cell_type": "code",
      "source": [
        "matrix.shape"
      ],
      "metadata": {
        "colab": {
          "base_uri": "https://localhost:8080/"
        },
        "id": "bLJgmZQ6Fscu",
        "outputId": "cc055056-aaae-42e9-bf0a-df4398e5e113"
      },
      "execution_count": 36,
      "outputs": [
        {
          "output_type": "execute_result",
          "data": {
            "text/plain": [
              "(5, 5)"
            ]
          },
          "metadata": {},
          "execution_count": 36
        }
      ]
    },
    {
      "cell_type": "code",
      "source": [
        "matrix.size"
      ],
      "metadata": {
        "colab": {
          "base_uri": "https://localhost:8080/"
        },
        "id": "zz-vSKB1Fsfz",
        "outputId": "88d103b4-7b6c-4baf-a5ee-2d355ac7edd9"
      },
      "execution_count": 37,
      "outputs": [
        {
          "output_type": "execute_result",
          "data": {
            "text/plain": [
              "25"
            ]
          },
          "metadata": {},
          "execution_count": 37
        }
      ]
    },
    {
      "cell_type": "code",
      "source": [
        "matrix[1:5,1:5]"
      ],
      "metadata": {
        "colab": {
          "base_uri": "https://localhost:8080/"
        },
        "id": "lynv3prpFsi0",
        "outputId": "db638f4a-5fb2-46c9-ae4d-7fd62ae5ddc6"
      },
      "execution_count": 39,
      "outputs": [
        {
          "output_type": "execute_result",
          "data": {
            "text/plain": [
              "array([[254, 251, 251, 254],\n",
              "       [253, 252, 251, 252],\n",
              "       [253, 252, 252, 252],\n",
              "       [250, 250, 252, 253]])"
            ]
          },
          "metadata": {},
          "execution_count": 39
        }
      ]
    },
    {
      "cell_type": "code",
      "source": [
        "alma_array = np.array([[1,2,3],[4,5,6]])\n",
        "print(alma_array.shape)"
      ],
      "metadata": {
        "colab": {
          "base_uri": "https://localhost:8080/"
        },
        "id": "Bi4I35DHFsmL",
        "outputId": "5f670d2c-cdda-4cd8-8e04-69df1e051d63"
      },
      "execution_count": 41,
      "outputs": [
        {
          "output_type": "stream",
          "name": "stdout",
          "text": [
            "(2, 3)\n"
          ]
        }
      ]
    },
    {
      "cell_type": "code",
      "source": [
        "alma_array.ndim"
      ],
      "metadata": {
        "colab": {
          "base_uri": "https://localhost:8080/"
        },
        "id": "liwOB4DpIPIe",
        "outputId": "412292ba-96eb-4965-90db-97e492fb5aaa"
      },
      "execution_count": 42,
      "outputs": [
        {
          "output_type": "execute_result",
          "data": {
            "text/plain": [
              "2"
            ]
          },
          "metadata": {},
          "execution_count": 42
        }
      ]
    },
    {
      "cell_type": "code",
      "source": [
        "alma_array = np.array([[[1,2,3],[4,5,6]],[[7,8,9],[10,11,12]]])\n",
        "print(alma_array.shape)"
      ],
      "metadata": {
        "colab": {
          "base_uri": "https://localhost:8080/"
        },
        "id": "YVPhe9WQIPLL",
        "outputId": "dbe4bd48-f326-463a-b0c4-774ebc086daf"
      },
      "execution_count": 43,
      "outputs": [
        {
          "output_type": "stream",
          "name": "stdout",
          "text": [
            "(2, 2, 3)\n"
          ]
        }
      ]
    },
    {
      "cell_type": "code",
      "source": [
        "alma_array = np.array([[[1,2,3],[4,5,6]],[[7,8,9],[10,11,12]],[[13,14,15],[16,17,18]]])\n",
        "print(alma_array.shape)"
      ],
      "metadata": {
        "colab": {
          "base_uri": "https://localhost:8080/"
        },
        "id": "Kw2R-jqKIPNs",
        "outputId": "a4bc5460-1d0d-4e83-e8c8-45fc606f7860"
      },
      "execution_count": 44,
      "outputs": [
        {
          "output_type": "stream",
          "name": "stdout",
          "text": [
            "(3, 2, 3)\n"
          ]
        }
      ]
    },
    {
      "cell_type": "code",
      "source": [
        "alma_array"
      ],
      "metadata": {
        "colab": {
          "base_uri": "https://localhost:8080/"
        },
        "id": "2Rfl-8wsIPTp",
        "outputId": "18e05294-e1b3-4b29-89a0-3b3c1c657ce7"
      },
      "execution_count": 45,
      "outputs": [
        {
          "output_type": "execute_result",
          "data": {
            "text/plain": [
              "array([[[ 1,  2,  3],\n",
              "        [ 4,  5,  6]],\n",
              "\n",
              "       [[ 7,  8,  9],\n",
              "        [10, 11, 12]],\n",
              "\n",
              "       [[13, 14, 15],\n",
              "        [16, 17, 18]]])"
            ]
          },
          "metadata": {},
          "execution_count": 45
        }
      ]
    },
    {
      "cell_type": "code",
      "source": [
        "array_of_integers = np.array([0,1,2,3,4,5,6,7,8,9])\n",
        "print(\"Dimension of 'array_of_integers' = \", array_of_integers.ndim)\n",
        "sample_2d_array = array_of_integers.reshape(2,5)\n",
        "print(\"Dimension of 'sample_2d_array' = \", sample_2d_array.ndim)"
      ],
      "metadata": {
        "colab": {
          "base_uri": "https://localhost:8080/"
        },
        "id": "kgJyGtxaI09q",
        "outputId": "c16306d1-9850-4138-a387-b545c11aab71"
      },
      "execution_count": 46,
      "outputs": [
        {
          "output_type": "stream",
          "name": "stdout",
          "text": [
            "Dimension of 'array_of_integers' =  1\n",
            "Dimension of 'sample_2d_array' =  2\n"
          ]
        }
      ]
    },
    {
      "cell_type": "code",
      "source": [
        "array_of_integers = np.array([0,1,2,3,4,5,6,7,8,9])\n",
        "print(f\"The total number of elements in our array ‘array_of_integers' = {array_of_integers.size}\")\n",
        "\n",
        "sample_2d_array = np.array([[1,2,3],[4,5,6]])\n",
        "\n",
        "print(f\"The total number of elements in our array ‘sample_2d_array’ = {sample_2d_array.size}\")\n"
      ],
      "metadata": {
        "colab": {
          "base_uri": "https://localhost:8080/"
        },
        "id": "EJzfNB0nI1AU",
        "outputId": "397c4b24-0957-4a63-a3a8-c8865f768ee9"
      },
      "execution_count": 47,
      "outputs": [
        {
          "output_type": "stream",
          "name": "stdout",
          "text": [
            "The total number of elements in our array ‘array_of_integers' = 10\n",
            "The total number of elements in our array ‘sample_2d_array’ = 6\n"
          ]
        }
      ]
    },
    {
      "cell_type": "code",
      "source": [
        "my_array = np.array([1,2,3,4,5])\n",
        "\n",
        "print (my_array.dtype)"
      ],
      "metadata": {
        "colab": {
          "base_uri": "https://localhost:8080/"
        },
        "id": "ENoqWCFZI1DM",
        "outputId": "e2dec570-e2be-47c4-becc-26c6d9dc201f"
      },
      "execution_count": 48,
      "outputs": [
        {
          "output_type": "stream",
          "name": "stdout",
          "text": [
            "int64\n"
          ]
        }
      ]
    },
    {
      "cell_type": "code",
      "source": [
        "my_list = [1,2,3,4,5,'abc']\n",
        "\n",
        "my_list"
      ],
      "metadata": {
        "colab": {
          "base_uri": "https://localhost:8080/"
        },
        "id": "q0yBAh0EI1GV",
        "outputId": "d830ee96-373e-440e-a2fd-3ab3d3e3470c"
      },
      "execution_count": 50,
      "outputs": [
        {
          "output_type": "execute_result",
          "data": {
            "text/plain": [
              "[1, 2, 3, 4, 5, 'abc']"
            ]
          },
          "metadata": {},
          "execution_count": 50
        }
      ]
    },
    {
      "cell_type": "code",
      "source": [
        "my_array = np.array([1,2,3,4,5,5.678,-6])\n",
        "\n",
        "print (my_array.dtype)"
      ],
      "metadata": {
        "colab": {
          "base_uri": "https://localhost:8080/"
        },
        "id": "cCGIe5FtI1JE",
        "outputId": "165ffd55-33f4-4d25-c0d2-beafa0ec2b8c"
      },
      "execution_count": 51,
      "outputs": [
        {
          "output_type": "stream",
          "name": "stdout",
          "text": [
            "float64\n"
          ]
        }
      ]
    },
    {
      "cell_type": "code",
      "source": [
        "my_array = np.array(['abd','bcd', 'abc'])\n",
        "\n",
        "print (my_array.dtype)"
      ],
      "metadata": {
        "colab": {
          "base_uri": "https://localhost:8080/"
        },
        "id": "zlABbwDgI1L9",
        "outputId": "9971b072-ff83-409c-a4af-30f3e75bd388"
      },
      "execution_count": 52,
      "outputs": [
        {
          "output_type": "stream",
          "name": "stdout",
          "text": [
            "<U3\n"
          ]
        }
      ]
    },
    {
      "cell_type": "code",
      "source": [
        "my_array"
      ],
      "metadata": {
        "colab": {
          "base_uri": "https://localhost:8080/"
        },
        "id": "SztyZAQzI1Rz",
        "outputId": "ced3f494-a676-45fa-b8d8-8d0f85658659"
      },
      "execution_count": 53,
      "outputs": [
        {
          "output_type": "execute_result",
          "data": {
            "text/plain": [
              "array(['abd', 'bcd', 'abc'], dtype='<U3')"
            ]
          },
          "metadata": {},
          "execution_count": 53
        }
      ]
    },
    {
      "cell_type": "code",
      "source": [
        "arravali = np.array([2,3,4])\n",
        "print (arravali)\n",
        "\n",
        "print (arravali.dtype)\n",
        "\n",
        "# Change the datatype of the array to float\n",
        "arravali_ = arravali.astype('float64')\n",
        "print (arravali_)\n",
        "\n",
        "print (arravali_.dtype)"
      ],
      "metadata": {
        "colab": {
          "base_uri": "https://localhost:8080/"
        },
        "id": "f_SuD94EI1U-",
        "outputId": "77812709-311c-4b13-bb7d-1480c5618e71"
      },
      "execution_count": 54,
      "outputs": [
        {
          "output_type": "stream",
          "name": "stdout",
          "text": [
            "[2 3 4]\n",
            "int64\n",
            "[2. 3. 4.]\n",
            "float64\n"
          ]
        }
      ]
    },
    {
      "cell_type": "code",
      "source": [
        "\n",
        "import numpy as np\n",
        "import sys\n",
        "\n",
        "# declaring a list of 1@ elements\n",
        "\n",
        "import numpy as np\n",
        "import sys\n",
        "\n",
        "# declaring a list of 1@ elements\n",
        "\n",
        "S = [0,1,2,3,4,5,6,7,8,9]\n",
        "\n",
        "print(\"Size of each element of list in bytes: \",sys.getsizeof(S))\n",
        "print(\"Size of the whole list in bytes: \",sys.getsizeof(S)*len(S))\n",
        "\n",
        "D= np.array([0,1,2,3,4,5,6,7,8,9] )\n",
        "\n",
        "\n",
        "\n",
        "print(\"Size of each element of the Numpy array in bytes: \",D.itemsize)\n",
        "print(\"Size of the whole Numpy array in bytes: \",D.size*D.itemsize)"
      ],
      "metadata": {
        "colab": {
          "base_uri": "https://localhost:8080/"
        },
        "id": "tb1VTl4JI1X_",
        "outputId": "f7053344-efdc-4bb8-cb7e-808eb85e9732"
      },
      "execution_count": 57,
      "outputs": [
        {
          "output_type": "stream",
          "name": "stdout",
          "text": [
            "Size of each element of list in bytes:  136\n",
            "Size of the whole list in bytes:  1360\n",
            "Size of each element of the Numpy array in bytes:  8\n",
            "Size of the whole Numpy array in bytes:  80\n"
          ]
        }
      ]
    },
    {
      "cell_type": "code",
      "source": [
        "1360/80"
      ],
      "metadata": {
        "colab": {
          "base_uri": "https://localhost:8080/"
        },
        "id": "0iPbPlkXI1bW",
        "outputId": "5a24a9ab-41c8-4b8f-bd29-083484c479bf"
      },
      "execution_count": 58,
      "outputs": [
        {
          "output_type": "execute_result",
          "data": {
            "text/plain": [
              "17.0"
            ]
          },
          "metadata": {},
          "execution_count": 58
        }
      ]
    },
    {
      "cell_type": "code",
      "source": [
        "[(a * b) for a, b in zip([1,2,3], [4,5,6])]"
      ],
      "metadata": {
        "colab": {
          "base_uri": "https://localhost:8080/"
        },
        "id": "fuO6jmXqTvIx",
        "outputId": "20cfa619-9760-49ff-8729-d07bba59ccc9"
      },
      "execution_count": 59,
      "outputs": [
        {
          "output_type": "execute_result",
          "data": {
            "text/plain": [
              "[4, 10, 18]"
            ]
          },
          "metadata": {},
          "execution_count": 59
        }
      ]
    },
    {
      "cell_type": "code",
      "source": [
        "import numpy as np\n",
        "import time\n",
        "import numpy as np\n",
        "import time\n",
        "\n",
        "# size of arrays and lists\n",
        "size = 190000\n",
        "\n",
        "# declaring lists\n",
        "list1 = range(size)\n",
        "list2 = range(size)\n",
        "\n",
        "# declaring arrays\n",
        "array1 = np.arange(size)\n",
        "array2 = np.arange(size)\n",
        "\n",
        "# capturing time before the multiplication of Python lists\n",
        "initialTime = time.time()\n",
        "\n",
        "# multiplying elements of both the lists and stored in another list\n",
        "resultantList = [(a * b) for a, b in zip(list1, list2)]\n",
        "\n",
        "# calculating execution time\n",
        "\n",
        "print(\"Time taken by Lists to perform multiplication:\",\n",
        "(time.time() - initialTime)*1000,\n",
        "\"milliseconds\" )\n",
        "\n",
        "# capturing time before the multiplication of Numpy arrays\n",
        "initialTime = time.time()\n",
        "\n",
        "# multiplying elements of both the Numpy arrays and stored in another Numpy array\n",
        "resultantArray = array1 * array2\n",
        "\n",
        "# calculating execution time\n",
        "\n",
        "print(\"Time taken by NumPy Arrays to perform multiplication:\",\n",
        "(time.time() - initialTime)*1000,\n",
        "\"milliseconds\")\n",
        "list1 = range(size)\n",
        "list2 = range(size)\n",
        "\n",
        "# declaring arrays\n",
        "array1 = np.arange(size)\n",
        "import numpy as np\n",
        "import time\n",
        "import numpy as np\n",
        "import time\n",
        "\n",
        "# size of arrays and lists\n",
        "size = 190000\n",
        "\n",
        "# declaring lists\n",
        "list1 = range(size)\n",
        "list2 = range(size)\n",
        "\n",
        "# declaring arrays\n",
        "array1 = np.arange(size)\n",
        "array2 = np.arange(size)\n",
        "\n",
        "# capturing time before the multiplication of Python lists\n",
        "initialTime = time.time()\n",
        "\n",
        "# multiplying elements of both the lists and stored in another list\n",
        "resultantList = [(a * b) for a, b in zip(list1, list2)]\n",
        "\n",
        "# calculating execution time\n",
        "\n",
        "print(\"Time taken by Lists to perform multiplication:\",\n",
        "(time.time() - initialTime)*1000,\n",
        "\"milliseconds\" )\n",
        "\n",
        "\n",
        "\n",
        "# capturing time before the multiplication of Numpy arrays\n",
        "initialTime = time.time()\n",
        "\n",
        "# multiplying elements of both the Numpy arrays and stored in another Numpy array\n",
        "resultantArray = array1 * array2\n",
        "\n",
        "# calculating execution time\n",
        "\n",
        "print(\"Time taken by NumPy Arrays to perform multiplication:\",\n",
        "(time.time() - initialTime)*1000,\n",
        "\"milliseconds\")"
      ],
      "metadata": {
        "colab": {
          "base_uri": "https://localhost:8080/"
        },
        "id": "gQz0Td3rTvLf",
        "outputId": "94d12cfc-eba6-4cf3-8cb4-6ad29d1d189d"
      },
      "execution_count": 64,
      "outputs": [
        {
          "output_type": "stream",
          "name": "stdout",
          "text": [
            "Time taken by Lists to perform multiplication: 14.214754104614258 milliseconds\n",
            "Time taken by NumPy Arrays to perform multiplication: 2.0356178283691406 milliseconds\n",
            "Time taken by Lists to perform multiplication: 16.900062561035156 milliseconds\n",
            "Time taken by NumPy Arrays to perform multiplication: 2.258777618408203 milliseconds\n"
          ]
        }
      ]
    },
    {
      "cell_type": "code",
      "source": [
        "5.19/0.26"
      ],
      "metadata": {
        "colab": {
          "base_uri": "https://localhost:8080/"
        },
        "id": "2VPaea7qTvOU",
        "outputId": "ed9e63de-13d5-459a-a288-e421bc01c69f"
      },
      "execution_count": 65,
      "outputs": [
        {
          "output_type": "execute_result",
          "data": {
            "text/plain": [
              "19.961538461538463"
            ]
          },
          "metadata": {},
          "execution_count": 65
        }
      ]
    },
    {
      "cell_type": "code",
      "source": [
        "words = ['dentist', 'harbour', 'apple', 'jelly', 'example' ]\n",
        "# capturing time before the multiplication of Numpy arrays\n",
        "initialTime = time.time()\n",
        "resultantArray = [word for word in words if len(word)>5]\n",
        "print(\"Time taken to do above operation\",\n",
        "(time.time() - initialTime)*1000,\n",
        "\"milliseconds\" )"
      ],
      "metadata": {
        "colab": {
          "base_uri": "https://localhost:8080/"
        },
        "id": "WrPySeU5TvRM",
        "outputId": "7dbf768c-f534-4e79-de27-fa24b4fd703a"
      },
      "execution_count": 68,
      "outputs": [
        {
          "output_type": "stream",
          "name": "stdout",
          "text": [
            "Time taken to do above operation 0.2288818359375 milliseconds\n"
          ]
        }
      ]
    },
    {
      "cell_type": "code",
      "source": [
        "import numpy as np\n",
        "import numpy as np\n",
        "\n",
        "# declaring a list\n",
        "ones = [1, 2, 3]\n",
        "\n",
        "# converting the list into a Numpy array\n",
        "arr = np.array(ones)\n",
        "\n",
        "try:\n",
        "# adding 4 to each element of list\n",
        "     ls =ones +4\n",
        "\n",
        "except (TypeError):\n",
        "    print(\"Lists don't support list + int\")\n",
        "\n",
        "# now on array\n",
        "\n",
        "try:\n",
        "# adding 4 to each element of Numpy array\n",
        "    arr = arr + 4\n",
        "\n",
        "# printing the Numpy array\n",
        "    print(\"Modified Numpy array: \",arr)\n",
        "\n",
        "except(TypeError):\n",
        "    print(\"Numpy arrays don't support list + int\")\n",
        "\n",
        "print(\"Numpy arrays don't support list + int\")\n",
        "\n"
      ],
      "metadata": {
        "colab": {
          "base_uri": "https://localhost:8080/"
        },
        "id": "NjRyaZ-cTvWv",
        "outputId": "5b578f5e-e9c2-4ff9-dbbf-953efca30eeb"
      },
      "execution_count": 77,
      "outputs": [
        {
          "output_type": "stream",
          "name": "stdout",
          "text": [
            "Lists don't support list + int\n",
            "Modified Numpy array:  [5 6 7]\n",
            "Numpy arrays don't support list + int\n"
          ]
        }
      ]
    },
    {
      "cell_type": "code",
      "source": [
        "uninitialized_array = np.empty([5,3],dtype=int)\n",
        "print (uninitialized_array)"
      ],
      "metadata": {
        "colab": {
          "base_uri": "https://localhost:8080/"
        },
        "id": "qiWm0etoTvZu",
        "outputId": "ed34a0a9-6c57-4cbc-9bec-9c4a51686731"
      },
      "execution_count": 78,
      "outputs": [
        {
          "output_type": "stream",
          "name": "stdout",
          "text": [
            "[[ 2857 15741  1080]\n",
            " [19344  5778  5778]\n",
            " [19344  1080 15741]\n",
            " [ 2857     0     0]\n",
            " [    0     0     0]]\n"
          ]
        }
      ]
    },
    {
      "cell_type": "code",
      "source": [
        "zeros_array = np.zeros((3,4)) # Default dtype = float\n",
        "another_zeros_array = np.zeros((4,3) , dtype=int)\n",
        "print (zeros_array)\n",
        "\n",
        "print (another_zeros_array)"
      ],
      "metadata": {
        "colab": {
          "base_uri": "https://localhost:8080/"
        },
        "id": "PGbYJ9U0Tvb1",
        "outputId": "e29b072f-fded-477a-992e-e22674996a71"
      },
      "execution_count": 80,
      "outputs": [
        {
          "output_type": "stream",
          "name": "stdout",
          "text": [
            "[[0. 0. 0. 0.]\n",
            " [0. 0. 0. 0.]\n",
            " [0. 0. 0. 0.]]\n",
            "[[0 0 0]\n",
            " [0 0 0]\n",
            " [0 0 0]\n",
            " [0 0 0]]\n"
          ]
        }
      ]
    },
    {
      "cell_type": "code",
      "source": [
        "np.zeros((3,4))"
      ],
      "metadata": {
        "colab": {
          "base_uri": "https://localhost:8080/"
        },
        "id": "EVg9mcd5TvfH",
        "outputId": "6035db0f-17ff-4fb8-ba27-6f885f04739f"
      },
      "execution_count": 81,
      "outputs": [
        {
          "output_type": "execute_result",
          "data": {
            "text/plain": [
              "array([[0., 0., 0., 0.],\n",
              "       [0., 0., 0., 0.],\n",
              "       [0., 0., 0., 0.]])"
            ]
          },
          "metadata": {},
          "execution_count": 81
        }
      ]
    },
    {
      "cell_type": "code",
      "source": [
        "zeros_array.dtype"
      ],
      "metadata": {
        "colab": {
          "base_uri": "https://localhost:8080/"
        },
        "id": "rOh90brU8wdd",
        "outputId": "9efabdcf-7b2e-4c37-a5f9-614a2de92522"
      },
      "execution_count": 82,
      "outputs": [
        {
          "output_type": "execute_result",
          "data": {
            "text/plain": [
              "dtype('float64')"
            ]
          },
          "metadata": {},
          "execution_count": 82
        }
      ]
    },
    {
      "cell_type": "code",
      "source": [
        "another_zeros_array.dtype"
      ],
      "metadata": {
        "colab": {
          "base_uri": "https://localhost:8080/"
        },
        "id": "ECBvpE1GX0Pn",
        "outputId": "1a00b5b7-dd09-43f2-99dd-ed608b0e32f9"
      },
      "execution_count": 83,
      "outputs": [
        {
          "output_type": "execute_result",
          "data": {
            "text/plain": [
              "dtype('int64')"
            ]
          },
          "metadata": {},
          "execution_count": 83
        }
      ]
    },
    {
      "cell_type": "code",
      "source": [
        "np.zeros((3,4,2))\n"
      ],
      "metadata": {
        "colab": {
          "base_uri": "https://localhost:8080/"
        },
        "id": "I0QS6wJuX0Sf",
        "outputId": "1037e503-2732-4726-d491-a3524051d01c"
      },
      "execution_count": 84,
      "outputs": [
        {
          "output_type": "execute_result",
          "data": {
            "text/plain": [
              "array([[[0., 0.],\n",
              "        [0., 0.],\n",
              "        [0., 0.],\n",
              "        [0., 0.]],\n",
              "\n",
              "       [[0., 0.],\n",
              "        [0., 0.],\n",
              "        [0., 0.],\n",
              "        [0., 0.]],\n",
              "\n",
              "       [[0., 0.],\n",
              "        [0., 0.],\n",
              "        [0., 0.],\n",
              "        [0., 0.]]])"
            ]
          },
          "metadata": {},
          "execution_count": 84
        }
      ]
    },
    {
      "cell_type": "code",
      "source": [
        "ones_array = np.ones((3,3))*50 # Default dtype = float\n",
        "another_ones_array = np.ones((2,3) , dtype=int)\n",
        "\n",
        "# print(ones_array)\n",
        "\n",
        "\n",
        "print (another_ones_array)"
      ],
      "metadata": {
        "colab": {
          "base_uri": "https://localhost:8080/"
        },
        "id": "ugx4uJRmX0VR",
        "outputId": "c67fbb5a-d185-4643-bb85-a80f57f06bed"
      },
      "execution_count": 85,
      "outputs": [
        {
          "output_type": "stream",
          "name": "stdout",
          "text": [
            "[[1 1 1]\n",
            " [1 1 1]]\n"
          ]
        }
      ]
    },
    {
      "cell_type": "code",
      "source": [
        "another_ones_array.dtype"
      ],
      "metadata": {
        "colab": {
          "base_uri": "https://localhost:8080/"
        },
        "id": "CBV17vdEX0YK",
        "outputId": "193bb215-73fe-4a76-b3dc-428fd9cf1196"
      },
      "execution_count": 86,
      "outputs": [
        {
          "output_type": "execute_result",
          "data": {
            "text/plain": [
              "dtype('int64')"
            ]
          },
          "metadata": {},
          "execution_count": 86
        }
      ]
    },
    {
      "cell_type": "code",
      "source": [
        "bunch_of_ones = np.ones((4,3))\n",
        "bunch_of_ones"
      ],
      "metadata": {
        "colab": {
          "base_uri": "https://localhost:8080/"
        },
        "id": "QyPvwBYBX0a5",
        "outputId": "6b8d4350-319d-4318-dfd4-912c1c56dbfd"
      },
      "execution_count": 87,
      "outputs": [
        {
          "output_type": "execute_result",
          "data": {
            "text/plain": [
              "array([[1., 1., 1.],\n",
              "       [1., 1., 1.],\n",
              "       [1., 1., 1.],\n",
              "       [1., 1., 1.]])"
            ]
          },
          "metadata": {},
          "execution_count": 87
        }
      ]
    },
    {
      "cell_type": "code",
      "source": [
        "bunch_of_ones.shape = (2,6)\n",
        "bunch_of_ones"
      ],
      "metadata": {
        "colab": {
          "base_uri": "https://localhost:8080/"
        },
        "id": "Z19EZZCGYs5n",
        "outputId": "0cbbaf56-36f6-481b-f439-45eec773b0eb"
      },
      "execution_count": 88,
      "outputs": [
        {
          "output_type": "execute_result",
          "data": {
            "text/plain": [
              "array([[1., 1., 1., 1., 1., 1.],\n",
              "       [1., 1., 1., 1., 1., 1.]])"
            ]
          },
          "metadata": {},
          "execution_count": 88
        }
      ]
    },
    {
      "cell_type": "code",
      "source": [
        "array_with_range = np.arange(5)\n",
        "array_with_range"
      ],
      "metadata": {
        "colab": {
          "base_uri": "https://localhost:8080/"
        },
        "id": "ON5Sc_LwYs8h",
        "outputId": "eb7286b7-1040-4d20-8ab8-9e5c52f0fb02"
      },
      "execution_count": 89,
      "outputs": [
        {
          "output_type": "execute_result",
          "data": {
            "text/plain": [
              "array([0, 1, 2, 3, 4])"
            ]
          },
          "metadata": {},
          "execution_count": 89
        }
      ]
    },
    {
      "cell_type": "code",
      "source": [
        "another_array_with_range = np.arange(10, 20,2)\n",
        "another_array_with_range"
      ],
      "metadata": {
        "colab": {
          "base_uri": "https://localhost:8080/"
        },
        "id": "66l6s-6-Ys_1",
        "outputId": "1e565707-1b0c-47d2-86a9-692198a48190"
      },
      "execution_count": 91,
      "outputs": [
        {
          "output_type": "execute_result",
          "data": {
            "text/plain": [
              "array([10, 12, 14, 16, 18])"
            ]
          },
          "metadata": {},
          "execution_count": 91
        }
      ]
    },
    {
      "cell_type": "code",
      "source": [
        "linearly_spaced_values = np.linspace(16,26,9 , endpoint = False, retstep = True)\n",
        "linearly_spaced_values"
      ],
      "metadata": {
        "colab": {
          "base_uri": "https://localhost:8080/"
        },
        "id": "F0w_6Q4lYtCc",
        "outputId": "fd13082a-9fcc-4d6e-8851-a032e701adf5"
      },
      "execution_count": 92,
      "outputs": [
        {
          "output_type": "execute_result",
          "data": {
            "text/plain": [
              "(array([16.        , 17.11111111, 18.22222222, 19.33333333, 20.44444444,\n",
              "        21.55555556, 22.66666667, 23.77777778, 24.88888889]),\n",
              " 1.1111111111111112)"
            ]
          },
          "metadata": {},
          "execution_count": 92
        }
      ]
    },
    {
      "cell_type": "code",
      "source": [
        "random_array = np.random.normal(1,3,(4,3))\n",
        "\n",
        "print (random_array)"
      ],
      "metadata": {
        "colab": {
          "base_uri": "https://localhost:8080/"
        },
        "id": "hmsdUKv1YtFb",
        "outputId": "caccb59f-85e0-4a94-9fda-858b15b0e3d8"
      },
      "execution_count": 93,
      "outputs": [
        {
          "output_type": "stream",
          "name": "stdout",
          "text": [
            "[[ 2.90168315  1.12579085  1.42653689]\n",
            " [ 1.32790033  0.41529671  4.1146701 ]\n",
            " [-1.48509888 -1.96888865 -0.88548246]\n",
            " [ 2.94246257  1.718351    1.51580873]]\n"
          ]
        }
      ]
    },
    {
      "cell_type": "code",
      "source": [
        "random_integral_array = np.random.randint(0,160,size=(3,4))\n",
        "\n",
        "print (random_integral_array)"
      ],
      "metadata": {
        "colab": {
          "base_uri": "https://localhost:8080/"
        },
        "id": "jXZpQxHHYtIM",
        "outputId": "560b645d-c3a4-4a05-b122-d8b403168490"
      },
      "execution_count": 94,
      "outputs": [
        {
          "output_type": "stream",
          "name": "stdout",
          "text": [
            "[[ 42  34  94 101]\n",
            " [ 82  96 147 104]\n",
            " [  1 108  53  26]]\n"
          ]
        }
      ]
    },
    {
      "cell_type": "code",
      "source": [
        "a = np.ones((3,3),dtype=int)*100\n",
        "print(a)"
      ],
      "metadata": {
        "colab": {
          "base_uri": "https://localhost:8080/"
        },
        "id": "30RSofyPYtK8",
        "outputId": "ee8d577c-8d99-4016-ddc3-14bfa3fba1f5"
      },
      "execution_count": 95,
      "outputs": [
        {
          "output_type": "stream",
          "name": "stdout",
          "text": [
            "[[100 100 100]\n",
            " [100 100 100]\n",
            " [100 100 100]]\n"
          ]
        }
      ]
    },
    {
      "cell_type": "code",
      "source": [
        "a = np.identity(5)\n",
        "\n",
        "print(a)"
      ],
      "metadata": {
        "colab": {
          "base_uri": "https://localhost:8080/"
        },
        "id": "8FSf_j2fYtOY",
        "outputId": "e6520a9b-a241-44b5-9917-a636a24c99f0"
      },
      "execution_count": 96,
      "outputs": [
        {
          "output_type": "stream",
          "name": "stdout",
          "text": [
            "[[1. 0. 0. 0. 0.]\n",
            " [0. 1. 0. 0. 0.]\n",
            " [0. 0. 1. 0. 0.]\n",
            " [0. 0. 0. 1. 0.]\n",
            " [0. 0. 0. 0. 1.]]\n"
          ]
        }
      ]
    },
    {
      "cell_type": "code",
      "source": [
        "typical_list = [1,2,3]\n",
        "\n",
        "corresponding_array = np.asarray(typical_list)\n",
        "corresponding_array"
      ],
      "metadata": {
        "colab": {
          "base_uri": "https://localhost:8080/"
        },
        "id": "Ts9fB9Z7Z47L",
        "outputId": "280a09c2-7708-4481-de55-0bca39a14c41"
      },
      "execution_count": 97,
      "outputs": [
        {
          "output_type": "execute_result",
          "data": {
            "text/plain": [
              "array([1, 2, 3])"
            ]
          },
          "metadata": {},
          "execution_count": 97
        }
      ]
    },
    {
      "cell_type": "code",
      "source": [
        "a = np.arange(10)\n",
        "a[5]"
      ],
      "metadata": {
        "colab": {
          "base_uri": "https://localhost:8080/"
        },
        "id": "ls9otMbCZ495",
        "outputId": "487fdc00-e84a-4e6d-8261-5ededc1a8ecb"
      },
      "execution_count": 98,
      "outputs": [
        {
          "output_type": "execute_result",
          "data": {
            "text/plain": [
              "5"
            ]
          },
          "metadata": {},
          "execution_count": 98
        }
      ]
    },
    {
      "cell_type": "code",
      "source": [
        "\n",
        "a = np.arange(10)\n",
        "a[2:5]\n"
      ],
      "metadata": {
        "colab": {
          "base_uri": "https://localhost:8080/"
        },
        "id": "J2TUsi3OZ5Aj",
        "outputId": "15362764-196c-4fb8-ab56-72ee1b62a4c8"
      },
      "execution_count": 99,
      "outputs": [
        {
          "output_type": "execute_result",
          "data": {
            "text/plain": [
              "array([2, 3, 4])"
            ]
          },
          "metadata": {},
          "execution_count": 99
        }
      ]
    },
    {
      "cell_type": "code",
      "source": [
        "a = np.random. random(10)\n",
        "a"
      ],
      "metadata": {
        "colab": {
          "base_uri": "https://localhost:8080/"
        },
        "id": "CEy-3y_EZ5ED",
        "outputId": "0e267fe5-2c86-4a86-cd2a-6bb9ef6ba7d5"
      },
      "execution_count": 101,
      "outputs": [
        {
          "output_type": "execute_result",
          "data": {
            "text/plain": [
              "array([0.12293317, 0.4068094 , 0.19886619, 0.87687717, 0.02618602,\n",
              "       0.47144761, 0.86370409, 0.81529234, 0.16638604, 0.83938891])"
            ]
          },
          "metadata": {},
          "execution_count": 101
        }
      ]
    },
    {
      "cell_type": "code",
      "source": [
        "a[::2]"
      ],
      "metadata": {
        "colab": {
          "base_uri": "https://localhost:8080/"
        },
        "id": "_z8WFrlka6Up",
        "outputId": "5278f648-48e0-4600-84b5-66498e55cf24"
      },
      "execution_count": 102,
      "outputs": [
        {
          "output_type": "execute_result",
          "data": {
            "text/plain": [
              "array([0.12293317, 0.19886619, 0.02618602, 0.86370409, 0.16638604])"
            ]
          },
          "metadata": {},
          "execution_count": 102
        }
      ]
    },
    {
      "cell_type": "code",
      "source": [
        "a = np.arange(10)\n",
        "\n",
        "print(a[:6:2]) # starting index is unspecified (default = @)\n",
        "print(a[1::2]) # ending index is unspecified (default = array size)\n",
        "print(a[1:6:]) # steps is unspecified (default = 1)"
      ],
      "metadata": {
        "colab": {
          "base_uri": "https://localhost:8080/"
        },
        "id": "cq3qqvg1a6XT",
        "outputId": "192eef8a-0c23-4d57-eb64-270ab762058a"
      },
      "execution_count": 103,
      "outputs": [
        {
          "output_type": "stream",
          "name": "stdout",
          "text": [
            "[0 2 4]\n",
            "[1 3 5 7 9]\n",
            "[1 2 3 4 5]\n"
          ]
        }
      ]
    },
    {
      "cell_type": "code",
      "source": [
        "a = np.array([[1,2,3],[4,5,6]])\n",
        "print(a[1,2])"
      ],
      "metadata": {
        "colab": {
          "base_uri": "https://localhost:8080/"
        },
        "id": "BqxqKgRwa6Z7",
        "outputId": "40b5a98e-c502-4b80-b9a3-aecd2b593a5b"
      },
      "execution_count": 104,
      "outputs": [
        {
          "output_type": "stream",
          "name": "stdout",
          "text": [
            "6\n"
          ]
        }
      ]
    },
    {
      "cell_type": "code",
      "source": [
        "a = np.array([[1,2,3],[4,5,6],[7,8,9]])\n",
        "print(a)\n",
        "\n",
        "print (a[0:2])\n",
        "\n",
        "print(a[0:2,-2:])"
      ],
      "metadata": {
        "colab": {
          "base_uri": "https://localhost:8080/"
        },
        "id": "KmU5J9mXa6dY",
        "outputId": "ab86f1a9-600b-43f7-9832-ec42cced0d5c"
      },
      "execution_count": 105,
      "outputs": [
        {
          "output_type": "stream",
          "name": "stdout",
          "text": [
            "[[1 2 3]\n",
            " [4 5 6]\n",
            " [7 8 9]]\n",
            "[[1 2 3]\n",
            " [4 5 6]]\n",
            "[[2 3]\n",
            " [5 6]]\n"
          ]
        }
      ]
    },
    {
      "cell_type": "code",
      "source": [
        "a = np.array([[1,2,3],[4,5,6],[7,8,9]])\n",
        "print (a[0:1,:])\n",
        "\n",
        "# getting the 1st row with steps in column\n",
        "a = np.array([[1,2,3],[4,5,6],[7,8,9]])\n",
        "print (a[0:1,1:2])"
      ],
      "metadata": {
        "colab": {
          "base_uri": "https://localhost:8080/"
        },
        "id": "gXWzS0eSbYLm",
        "outputId": "b81f0d57-26ee-41f4-be5d-4715b0cd5452"
      },
      "execution_count": 106,
      "outputs": [
        {
          "output_type": "stream",
          "name": "stdout",
          "text": [
            "[[1 2 3]]\n",
            "[[2]]\n"
          ]
        }
      ]
    },
    {
      "cell_type": "code",
      "source": [
        "a = np.array([[1,2,3],[4,5,6],[7,8,9]])\n",
        "print (a)\n",
        "\n",
        "print(a[:,0:1])"
      ],
      "metadata": {
        "colab": {
          "base_uri": "https://localhost:8080/"
        },
        "id": "57gzTEYZbrTb",
        "outputId": "8d7f7e4a-8fcd-4c66-9787-3fda2bbf8a50"
      },
      "execution_count": 107,
      "outputs": [
        {
          "output_type": "stream",
          "name": "stdout",
          "text": [
            "[[1 2 3]\n",
            " [4 5 6]\n",
            " [7 8 9]]\n",
            "[[1]\n",
            " [4]\n",
            " [7]]\n"
          ]
        }
      ]
    },
    {
      "cell_type": "code",
      "source": [
        "a = np.array([[1,2,3],[4,5,6],[7,8,9]])\n",
        "print(a[::2,0:1])"
      ],
      "metadata": {
        "colab": {
          "base_uri": "https://localhost:8080/"
        },
        "id": "lBJtBHlKbrV5",
        "outputId": "370a8afa-d6bf-4c00-e4a5-ba09856f51fc"
      },
      "execution_count": 108,
      "outputs": [
        {
          "output_type": "stream",
          "name": "stdout",
          "text": [
            "[[1]\n",
            " [7]]\n"
          ]
        }
      ]
    },
    {
      "cell_type": "code",
      "source": [
        "a = np.array([[1,2,3],[4,5,6],[7,8,9]])\n",
        "print (a[0:2,1:3])"
      ],
      "metadata": {
        "colab": {
          "base_uri": "https://localhost:8080/"
        },
        "id": "LSb2yCkObrYg",
        "outputId": "d5638520-8357-47df-e0f4-9b551be4feb7"
      },
      "execution_count": 109,
      "outputs": [
        {
          "output_type": "stream",
          "name": "stdout",
          "text": [
            "[[2 3]\n",
            " [5 6]]\n"
          ]
        }
      ]
    },
    {
      "cell_type": "code",
      "source": [
        "a = np.array([[[1,2],[3,4],[5,6]],\n",
        "[[7,8], [9,10], [11,12]],\n",
        "[[13,14], [15,16], [17,18]]])\n",
        "print(a)\n",
        "print (a[0:2])\n",
        "# print(a[@:2,1:])\n",
        "print(a[0:2,1:,1:])"
      ],
      "metadata": {
        "colab": {
          "base_uri": "https://localhost:8080/"
        },
        "id": "pDgqnBzwbrcB",
        "outputId": "c0d68ada-b66d-4d79-a676-89fbf9e10717"
      },
      "execution_count": 110,
      "outputs": [
        {
          "output_type": "stream",
          "name": "stdout",
          "text": [
            "[[[ 1  2]\n",
            "  [ 3  4]\n",
            "  [ 5  6]]\n",
            "\n",
            " [[ 7  8]\n",
            "  [ 9 10]\n",
            "  [11 12]]\n",
            "\n",
            " [[13 14]\n",
            "  [15 16]\n",
            "  [17 18]]]\n",
            "[[[ 1  2]\n",
            "  [ 3  4]\n",
            "  [ 5  6]]\n",
            "\n",
            " [[ 7  8]\n",
            "  [ 9 10]\n",
            "  [11 12]]]\n",
            "[[[ 4]\n",
            "  [ 6]]\n",
            "\n",
            " [[10]\n",
            "  [12]]]\n"
          ]
        }
      ]
    },
    {
      "cell_type": "code",
      "source": [
        "np. random. randint(26)"
      ],
      "metadata": {
        "colab": {
          "base_uri": "https://localhost:8080/"
        },
        "id": "k6c8okFYcfVh",
        "outputId": "0f8f2476-af5d-49ed-8e71-0c3a1b743797"
      },
      "execution_count": 111,
      "outputs": [
        {
          "output_type": "execute_result",
          "data": {
            "text/plain": [
              "14"
            ]
          },
          "metadata": {},
          "execution_count": 111
        }
      ]
    },
    {
      "cell_type": "code",
      "source": [
        "\n",
        "scale = 1.6\n",
        "\n",
        "random_numbers = np.random.binomial(10,0.2, size=(5, 5))\n",
        "\n",
        "print(\"Random numbers from binomial distribution:\")\n",
        "print (random_numbers)"
      ],
      "metadata": {
        "colab": {
          "base_uri": "https://localhost:8080/"
        },
        "id": "Jvkb-OSTcfYK",
        "outputId": "e179ea02-197f-4853-e26d-5ac87f3e74cd"
      },
      "execution_count": 113,
      "outputs": [
        {
          "output_type": "stream",
          "name": "stdout",
          "text": [
            "Random numbers from binomial distribution:\n",
            "[[2 1 3 1 3]\n",
            " [2 2 3 1 0]\n",
            " [1 2 0 2 2]\n",
            " [1 4 1 4 1]\n",
            " [2 3 2 1 0]]\n"
          ]
        }
      ]
    },
    {
      "cell_type": "code",
      "source": [
        "arravali = np.array(np.random. randint(10,45,(8,2)))\n",
        "print(f\"The defined array is \\n{arravali}\")\n",
        "\n",
        "print(f\" \\n The shape of the array is {arravali.shape}\")"
      ],
      "metadata": {
        "colab": {
          "base_uri": "https://localhost:8080/"
        },
        "id": "gfnbUo_ecfbW",
        "outputId": "b90a9a91-d9f4-47e2-bf2e-050b53f89fd3"
      },
      "execution_count": 114,
      "outputs": [
        {
          "output_type": "stream",
          "name": "stdout",
          "text": [
            "The defined array is \n",
            "[[38 10]\n",
            " [31 30]\n",
            " [17 36]\n",
            " [11 11]\n",
            " [32 18]\n",
            " [28 22]\n",
            " [38 42]\n",
            " [24 12]]\n",
            " \n",
            " The shape of the array is (8, 2)\n"
          ]
        }
      ]
    },
    {
      "cell_type": "code",
      "source": [
        "nilgiri =np.transpose(arravali)\n",
        "\n",
        "print(f\" The transpose of the array is \\n{nilgiri}\")\n",
        "print(f\" \\n The shape of the array is {nilgiri.shape}\")"
      ],
      "metadata": {
        "colab": {
          "base_uri": "https://localhost:8080/"
        },
        "id": "kqJIwJ-VcfeV",
        "outputId": "109b3ce7-e4b4-4e4b-ff39-04bde3c05617"
      },
      "execution_count": 115,
      "outputs": [
        {
          "output_type": "stream",
          "name": "stdout",
          "text": [
            " The transpose of the array is \n",
            "[[38 31 17 11 32 28 38 24]\n",
            " [10 30 36 11 18 22 42 12]]\n",
            " \n",
            " The shape of the array is (2, 8)\n"
          ]
        }
      ]
    },
    {
      "cell_type": "code",
      "source": [
        "random_cohort = np.array(np.random.randint(10,45,(3,8))) # 2D\n",
        "print(f\"The defined array is \\n{random_cohort}\")\n",
        "\n",
        "print(f\" \\n The shape of the array is {random_cohort.shape}\")"
      ],
      "metadata": {
        "colab": {
          "base_uri": "https://localhost:8080/"
        },
        "id": "vja0UyJTcfgj",
        "outputId": "968e04c9-0667-40d0-a653-99a544fdf422"
      },
      "execution_count": 118,
      "outputs": [
        {
          "output_type": "stream",
          "name": "stdout",
          "text": [
            "The defined array is \n",
            "[[29 18 30 12 13 12 18 27]\n",
            " [32 10 41 26 22 21 18 25]\n",
            " [34 10 21 24 13 29 26 25]]\n",
            " \n",
            " The shape of the array is (3, 8)\n"
          ]
        }
      ]
    },
    {
      "cell_type": "code",
      "source": [
        "new_shape = (2,4,3)\n",
        "\n",
        "reshaped_random_cohort = np.reshape(random_cohort, new_shape)\n",
        "print(f\"The reshaped array is \\n{reshaped_random_cohort}\")"
      ],
      "metadata": {
        "colab": {
          "base_uri": "https://localhost:8080/"
        },
        "id": "hGeN8Nw0cfji",
        "outputId": "5553da81-520d-4737-b977-1b30503dbeb0"
      },
      "execution_count": 119,
      "outputs": [
        {
          "output_type": "stream",
          "name": "stdout",
          "text": [
            "The reshaped array is \n",
            "[[[29 18 30]\n",
            "  [12 13 12]\n",
            "  [18 27 32]\n",
            "  [10 41 26]]\n",
            "\n",
            " [[22 21 18]\n",
            "  [25 34 10]\n",
            "  [21 24 13]\n",
            "  [29 26 25]]]\n"
          ]
        }
      ]
    },
    {
      "cell_type": "code",
      "source": [
        "new_shape = (2,-1,6)\n",
        "\n",
        "reshaped_random_cohort = np.reshape(random_cohort, new_shape)\n",
        "print(f\"The reshaped array is \\n{reshaped_random_cohort}\")\n",
        "\n",
        "print(f\" \\n The shape of the array is {reshaped_random_cohort.shape}\")"
      ],
      "metadata": {
        "colab": {
          "base_uri": "https://localhost:8080/"
        },
        "id": "YYayh77DbYPD",
        "outputId": "e0f053b1-4c27-4224-bd9d-f4312fdbb639"
      },
      "execution_count": 120,
      "outputs": [
        {
          "output_type": "stream",
          "name": "stdout",
          "text": [
            "The reshaped array is \n",
            "[[[29 18 30 12 13 12]\n",
            "  [18 27 32 10 41 26]]\n",
            "\n",
            " [[22 21 18 25 34 10]\n",
            "  [21 24 13 29 26 25]]]\n",
            " \n",
            " The shape of the array is (2, 2, 6)\n"
          ]
        }
      ]
    },
    {
      "cell_type": "code",
      "source": [
        "random_3D_cohort = np.array(np.random.randint(16,45,(3,6,2)))\n",
        "print(f\"The defined array is \\n{random_3D_cohort}\")\n",
        "\n",
        "print(f\" \\n The shape of the array is {random_3D_cohort.shape}\")"
      ],
      "metadata": {
        "colab": {
          "base_uri": "https://localhost:8080/"
        },
        "id": "NhMAwhEdYtRu",
        "outputId": "aa58123c-cb1c-4573-ad83-e90f0aed46b4"
      },
      "execution_count": 124,
      "outputs": [
        {
          "output_type": "stream",
          "name": "stdout",
          "text": [
            "The defined array is \n",
            "[[[21 42]\n",
            "  [41 44]\n",
            "  [26 39]\n",
            "  [26 32]\n",
            "  [26 35]\n",
            "  [30 28]]\n",
            "\n",
            " [[43 35]\n",
            "  [23 27]\n",
            "  [34 23]\n",
            "  [18 22]\n",
            "  [43 38]\n",
            "  [20 37]]\n",
            "\n",
            " [[31 19]\n",
            "  [33 28]\n",
            "  [22 16]\n",
            "  [19 21]\n",
            "  [34 29]\n",
            "  [41 19]]]\n",
            " \n",
            " The shape of the array is (3, 6, 2)\n"
          ]
        }
      ]
    },
    {
      "cell_type": "code",
      "source": [
        "new_shape = (2,-1,6)\n",
        "\n",
        "reshaped_random_3D_cohort = np.reshape(random_3D_cohort,new_shape)\n",
        "print(f\"The reshaped array is \\n{reshaped_random_3D_cohort}\")\n",
        "\n",
        "print(f\" \\n The shape of the array is {reshaped_random_3D_cohort.shape}\")"
      ],
      "metadata": {
        "colab": {
          "base_uri": "https://localhost:8080/"
        },
        "id": "oCVt74KueTFg",
        "outputId": "e2509541-ade4-456d-e203-d273f61423d0"
      },
      "execution_count": 125,
      "outputs": [
        {
          "output_type": "stream",
          "name": "stdout",
          "text": [
            "The reshaped array is \n",
            "[[[21 42 41 44 26 39]\n",
            "  [26 32 26 35 30 28]\n",
            "  [43 35 23 27 34 23]]\n",
            "\n",
            " [[18 22 43 38 20 37]\n",
            "  [31 19 33 28 22 16]\n",
            "  [19 21 34 29 41 19]]]\n",
            " \n",
            " The shape of the array is (2, 3, 6)\n"
          ]
        }
      ]
    },
    {
      "cell_type": "code",
      "source": [
        "random_3D_cohort = np.array(np.random. randint(10,45,(2,4,6)))\n",
        "random_3D_cohort = np.array(np.random.randint(10,45,(2,4,6)))\n",
        "print(f\"The defined array is \\n{random_3D_cohort}\")\n",
        "\n",
        "print(f\" \\n The shape of the array is {random_3D_cohort.shape}\")"
      ],
      "metadata": {
        "colab": {
          "base_uri": "https://localhost:8080/"
        },
        "id": "ttrauTvXeTIG",
        "outputId": "c37903d8-53a2-4002-e5bf-cfe6899d9bc2"
      },
      "execution_count": 127,
      "outputs": [
        {
          "output_type": "stream",
          "name": "stdout",
          "text": [
            "The defined array is \n",
            "[[[25 40 23 19 36 34]\n",
            "  [18 14 30 44 30 34]\n",
            "  [44 27 11 33 10 33]\n",
            "  [16 17 27 31 13 43]]\n",
            "\n",
            " [[43 20 42 26 19 41]\n",
            "  [19 36 10 34 28 30]\n",
            "  [31 39 16 20 44 14]\n",
            "  [23 42 14 34 21 41]]]\n",
            " \n",
            " The shape of the array is (2, 4, 6)\n"
          ]
        }
      ]
    },
    {
      "cell_type": "code",
      "source": [
        "random_3D_cohort.flatten()"
      ],
      "metadata": {
        "colab": {
          "base_uri": "https://localhost:8080/"
        },
        "id": "L0p6PJvteTOX",
        "outputId": "4d2eae4d-7c20-4648-a1fa-16aece835527"
      },
      "execution_count": 129,
      "outputs": [
        {
          "output_type": "execute_result",
          "data": {
            "text/plain": [
              "array([25, 40, 23, 19, 36, 34, 18, 14, 30, 44, 30, 34, 44, 27, 11, 33, 10,\n",
              "       33, 16, 17, 27, 31, 13, 43, 43, 20, 42, 26, 19, 41, 19, 36, 10, 34,\n",
              "       28, 30, 31, 39, 16, 20, 44, 14, 23, 42, 14, 34, 21, 41])"
            ]
          },
          "metadata": {},
          "execution_count": 129
        }
      ]
    },
    {
      "cell_type": "code",
      "source": [
        "random_3D_cohort.flatten(order='F')"
      ],
      "metadata": {
        "colab": {
          "base_uri": "https://localhost:8080/"
        },
        "id": "BKPkG4TR8wgB",
        "outputId": "9a5caa35-8168-479b-e5ec-2c8192619c44"
      },
      "execution_count": 131,
      "outputs": [
        {
          "output_type": "execute_result",
          "data": {
            "text/plain": [
              "array([25, 43, 18, 19, 44, 31, 16, 23, 40, 20, 14, 36, 27, 39, 17, 42, 23,\n",
              "       42, 30, 10, 11, 16, 27, 14, 19, 26, 44, 34, 33, 20, 31, 34, 36, 19,\n",
              "       30, 28, 10, 44, 13, 21, 34, 41, 34, 30, 33, 14, 43, 41])"
            ]
          },
          "metadata": {},
          "execution_count": 131
        }
      ]
    }
  ]
}